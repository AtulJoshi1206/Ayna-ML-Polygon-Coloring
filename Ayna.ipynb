{
  "nbformat": 4,
  "nbformat_minor": 0,
  "metadata": {
    "colab": {
      "provenance": [],
      "gpuType": "T4"
    },
    "kernelspec": {
      "name": "python3",
      "display_name": "Python 3"
    },
    "language_info": {
      "name": "python"
    },
    "accelerator": "GPU"
  },
  "cells": [
    {
      "cell_type": "markdown",
      "metadata": {
        "id": "8de320b3"
      },
      "source": [
        "## Setup and data loading\n",
        "\n",
        "### Subtask:\n",
        "Mount Google Drive, install wandb, unzip the dataset, create a PyTorch PolygonDataset class to parse data.json, handle one-hot encoding for colors, load image triplets, transform images to 128x128 Tensors, normalize images, and create training and validation DataLoaders.\n"
      ]
    },
    {
      "cell_type": "code",
      "metadata": {
        "colab": {
          "base_uri": "https://localhost:8080/"
        },
        "id": "LbcNGUAin32x",
        "outputId": "d2b416d1-81bc-4946-e4b0-7d7c9cfd0a5a"
      },
      "source": [
        "from google.colab import drive\n",
        "drive.mount('/content/drive', force_remount=True)"
      ],
      "execution_count": 2,
      "outputs": [
        {
          "output_type": "stream",
          "name": "stdout",
          "text": [
            "Mounted at /content/drive\n"
          ]
        }
      ]
    },
    {
      "cell_type": "code",
      "metadata": {
        "colab": {
          "base_uri": "https://localhost:8080/"
        },
        "id": "178cae5e",
        "outputId": "413b986c-68cd-4a00-f253-f01efc5a161d"
      },
      "source": [
        "!pip install wandb"
      ],
      "execution_count": 3,
      "outputs": [
        {
          "output_type": "stream",
          "name": "stdout",
          "text": [
            "Requirement already satisfied: wandb in /usr/local/lib/python3.11/dist-packages (0.21.0)\n",
            "Requirement already satisfied: click!=8.0.0,>=7.1 in /usr/local/lib/python3.11/dist-packages (from wandb) (8.2.1)\n",
            "Requirement already satisfied: gitpython!=3.1.29,>=1.0.0 in /usr/local/lib/python3.11/dist-packages (from wandb) (3.1.45)\n",
            "Requirement already satisfied: packaging in /usr/local/lib/python3.11/dist-packages (from wandb) (25.0)\n",
            "Requirement already satisfied: platformdirs in /usr/local/lib/python3.11/dist-packages (from wandb) (4.3.8)\n",
            "Requirement already satisfied: protobuf!=4.21.0,!=5.28.0,<7,>=3.19.0 in /usr/local/lib/python3.11/dist-packages (from wandb) (5.29.5)\n",
            "Requirement already satisfied: pydantic<3 in /usr/local/lib/python3.11/dist-packages (from wandb) (2.11.7)\n",
            "Requirement already satisfied: pyyaml in /usr/local/lib/python3.11/dist-packages (from wandb) (6.0.2)\n",
            "Requirement already satisfied: requests<3,>=2.0.0 in /usr/local/lib/python3.11/dist-packages (from wandb) (2.32.3)\n",
            "Requirement already satisfied: sentry-sdk>=2.0.0 in /usr/local/lib/python3.11/dist-packages (from wandb) (2.33.2)\n",
            "Requirement already satisfied: typing-extensions<5,>=4.8 in /usr/local/lib/python3.11/dist-packages (from wandb) (4.14.1)\n",
            "Requirement already satisfied: gitdb<5,>=4.0.1 in /usr/local/lib/python3.11/dist-packages (from gitpython!=3.1.29,>=1.0.0->wandb) (4.0.12)\n",
            "Requirement already satisfied: annotated-types>=0.6.0 in /usr/local/lib/python3.11/dist-packages (from pydantic<3->wandb) (0.7.0)\n",
            "Requirement already satisfied: pydantic-core==2.33.2 in /usr/local/lib/python3.11/dist-packages (from pydantic<3->wandb) (2.33.2)\n",
            "Requirement already satisfied: typing-inspection>=0.4.0 in /usr/local/lib/python3.11/dist-packages (from pydantic<3->wandb) (0.4.1)\n",
            "Requirement already satisfied: charset-normalizer<4,>=2 in /usr/local/lib/python3.11/dist-packages (from requests<3,>=2.0.0->wandb) (3.4.2)\n",
            "Requirement already satisfied: idna<4,>=2.5 in /usr/local/lib/python3.11/dist-packages (from requests<3,>=2.0.0->wandb) (3.10)\n",
            "Requirement already satisfied: urllib3<3,>=1.21.1 in /usr/local/lib/python3.11/dist-packages (from requests<3,>=2.0.0->wandb) (2.5.0)\n",
            "Requirement already satisfied: certifi>=2017.4.17 in /usr/local/lib/python3.11/dist-packages (from requests<3,>=2.0.0->wandb) (2025.7.14)\n",
            "Requirement already satisfied: smmap<6,>=3.0.1 in /usr/local/lib/python3.11/dist-packages (from gitdb<5,>=4.0.1->gitpython!=3.1.29,>=1.0.0->wandb) (5.0.2)\n"
          ]
        }
      ]
    },
    {
      "cell_type": "code",
      "metadata": {
        "colab": {
          "base_uri": "https://localhost:8080/"
        },
        "id": "613a9eb8",
        "outputId": "03236e6a-68ce-416c-d2e5-5249ec8c9ab5"
      },
      "source": [
        "!unzip /content/dataset.zip -d /content/"
      ],
      "execution_count": 4,
      "outputs": [
        {
          "output_type": "stream",
          "name": "stdout",
          "text": [
            "Archive:  /content/dataset.zip\n",
            "   creating: /content/dataset/\n",
            "  inflating: /content/dataset/.DS_Store  \n",
            "  inflating: /content/__MACOSX/dataset/._.DS_Store  \n",
            "   creating: /content/dataset/training/\n",
            "   creating: /content/dataset/validation/\n",
            "  inflating: /content/dataset/training/data.json  \n",
            "   creating: /content/dataset/training/outputs/\n",
            "   creating: /content/dataset/training/inputs/\n",
            "  inflating: /content/dataset/validation/data.json  \n",
            "   creating: /content/dataset/validation/outputs/\n",
            "   creating: /content/dataset/validation/inputs/\n",
            "  inflating: /content/dataset/training/outputs/green_octagon.png  \n",
            "  inflating: /content/dataset/training/outputs/blue_hexagon.png  \n",
            "  inflating: /content/dataset/training/outputs/green_diamond.png  \n",
            "  inflating: /content/dataset/training/outputs/cyan_triangle.png  \n",
            "  inflating: /content/dataset/training/outputs/purple_square.png  \n",
            "  inflating: /content/dataset/training/outputs/orange_pentagon.png  \n",
            "  inflating: /content/dataset/training/outputs/magenta_circle.png  \n",
            "  inflating: /content/dataset/training/outputs/blue_triangle.png  \n",
            "  inflating: /content/dataset/training/outputs/red_pentagon.png  \n",
            "  inflating: /content/dataset/training/outputs/magenta_triangle.png  \n",
            "  inflating: /content/dataset/training/outputs/cyan_star.png  \n",
            "  inflating: /content/dataset/training/outputs/yellow_pentagon.png  \n",
            "  inflating: /content/dataset/training/outputs/blue_square.png  \n",
            "  inflating: /content/dataset/training/outputs/cyan_octagon.png  \n",
            "  inflating: /content/dataset/training/outputs/cyan_diamond.png  \n",
            "  inflating: /content/dataset/training/outputs/cyan_circle.png  \n",
            "  inflating: /content/dataset/training/outputs/purple_triangle.png  \n",
            "  inflating: /content/dataset/training/outputs/green_circle.png  \n",
            "  inflating: /content/dataset/training/outputs/red_circle.png  \n",
            "  inflating: /content/dataset/training/outputs/magenta_octagon.png  \n",
            "  inflating: /content/dataset/training/outputs/purple_hexagon.png  \n",
            "  inflating: /content/dataset/training/outputs/magenta_diamond.png  \n",
            "  inflating: /content/dataset/training/outputs/red_octagon.png  \n",
            "  inflating: /content/dataset/training/outputs/red_diamond.png  \n",
            "  inflating: /content/dataset/training/outputs/yellow_diamond.png  \n",
            "  inflating: /content/dataset/training/outputs/orange_hexagon.png  \n",
            "  inflating: /content/dataset/training/outputs/yellow_octagon.png  \n",
            "  inflating: /content/dataset/training/outputs/orange_circle.png  \n",
            "  inflating: /content/dataset/training/outputs/magenta_hexagon.png  \n",
            "  inflating: /content/dataset/training/outputs/purple_diamond.png  \n",
            "  inflating: /content/dataset/training/outputs/purple_octagon.png  \n",
            "  inflating: /content/dataset/training/outputs/red_hexagon.png  \n",
            "  inflating: /content/dataset/training/outputs/orange_diamond.png  \n",
            "  inflating: /content/dataset/training/outputs/orange_octagon.png  \n",
            "  inflating: /content/dataset/training/outputs/purple_star.png  \n",
            "  inflating: /content/dataset/training/outputs/yellow_hexagon.png  \n",
            "  inflating: /content/dataset/training/outputs/purple_pentagon.png  \n",
            "  inflating: /content/dataset/training/outputs/purple_circle.png  \n",
            "  inflating: /content/dataset/training/outputs/cyan_hexagon.png  \n",
            "  inflating: /content/dataset/training/outputs/magenta_square.png  \n",
            "  inflating: /content/dataset/training/outputs/yellow_triangle.png  \n",
            "  inflating: /content/dataset/training/outputs/green_pentagon.png  \n",
            "  inflating: /content/dataset/training/outputs/blue_circle.png  \n",
            "  inflating: /content/dataset/training/outputs/red_star.png  \n",
            "  inflating: /content/dataset/training/outputs/yellow_circle.png  \n",
            "  inflating: /content/dataset/training/outputs/orange_triangle.png  \n",
            "  inflating: /content/dataset/training/outputs/green_square.png  \n",
            "  inflating: /content/dataset/training/outputs/red_square.png  \n",
            "  inflating: /content/dataset/training/outputs/red_triangle.png  \n",
            "  inflating: /content/dataset/training/outputs/blue_pentagon.png  \n",
            "  inflating: /content/dataset/training/outputs/magenta_pentagon.png  \n",
            "  inflating: /content/dataset/training/outputs/green_star.png  \n",
            "  inflating: /content/dataset/training/outputs/orange_square.png  \n",
            "  inflating: /content/dataset/training/outputs/green_hexagon.png  \n",
            "  inflating: /content/dataset/training/outputs/blue_octagon.png  \n",
            "  inflating: /content/dataset/training/outputs/blue_diamond.png  \n",
            "  inflating: /content/dataset/training/inputs/hexagon.png  \n",
            "  inflating: /content/dataset/training/inputs/circle.png  \n",
            "  inflating: /content/dataset/training/inputs/triangle.png  \n",
            "  inflating: /content/dataset/training/inputs/pentagon.png  \n",
            "  inflating: /content/dataset/training/inputs/octagon.png  \n",
            "  inflating: /content/dataset/training/inputs/diamond.png  \n",
            "  inflating: /content/dataset/training/inputs/star.png  \n",
            "  inflating: /content/dataset/training/inputs/square.png  \n",
            "  inflating: /content/dataset/validation/outputs/yellow_star.png  \n",
            "  inflating: /content/dataset/validation/outputs/green_triangle.png  \n",
            "  inflating: /content/dataset/validation/outputs/yellow_square.png  \n",
            "  inflating: /content/dataset/validation/outputs/cyan_square.png  \n",
            "  inflating: /content/dataset/validation/outputs/blue_octagon.png  \n",
            "  inflating: /content/dataset/validation/inputs/triangle.png  \n",
            "  inflating: /content/dataset/validation/inputs/octagon.png  \n",
            "  inflating: /content/dataset/validation/inputs/star.png  \n",
            "  inflating: /content/dataset/validation/inputs/square.png  \n"
          ]
        }
      ]
    },
    {
      "cell_type": "code",
      "metadata": {
        "colab": {
          "base_uri": "https://localhost:8080/"
        },
        "id": "8qW6cOhfoTZK",
        "outputId": "6555973f-613f-4a0e-a46c-f8ee529b959e"
      },
      "source": [
        "import os\n",
        "import json\n",
        "from PIL import Image\n",
        "import torch\n",
        "from torch.utils.data import Dataset, DataLoader\n",
        "from torchvision import transforms\n",
        "import numpy as np\n",
        "\n",
        "class PolygonDataset(Dataset):\n",
        "    def __init__(self, data_dir, transform=None):\n",
        "        self.data_dir = data_dir\n",
        "        self.transform = transform\n",
        "        self.data = self._load_data()\n",
        "        # Correct key for color is 'colour'\n",
        "        self.colors = sorted(list(set([item['colour'] for item in self.data])))\n",
        "        self.color_to_onehot = self._create_onehot_encoding()\n",
        "\n",
        "    def _load_data(self):\n",
        "        data_path = os.path.join(self.data_dir, 'data.json')\n",
        "        with open(data_path, 'r') as f:\n",
        "            data = json.load(f)\n",
        "        return data\n",
        "\n",
        "    def _create_onehot_encoding(self):\n",
        "        color_to_onehot = {}\n",
        "        num_colors = len(self.colors)\n",
        "        for i, color in enumerate(self.colors):\n",
        "            onehot = np.zeros(num_colors, dtype=np.float32)\n",
        "            onehot[i] = 1.0\n",
        "            color_to_onehot[color] = onehot\n",
        "        return color_to_onehot\n",
        "\n",
        "    def __len__(self):\n",
        "        return len(self.data)\n",
        "\n",
        "    def __getitem__(self, idx):\n",
        "        item = self.data[idx]\n",
        "        # Correct keys are 'input_polygon' and 'output_image', color is 'colour'\n",
        "        input_img_path = os.path.join(self.data_dir, 'inputs', item['input_polygon'])\n",
        "        output_img_path = os.path.join(self.data_dir, 'outputs', item['output_image'])\n",
        "        color = item['colour']\n",
        "\n",
        "        input_image = Image.open(input_img_path).convert('RGB')\n",
        "        output_image = Image.open(output_img_path).convert('RGB')\n",
        "        color_onehot = self.color_to_onehot[color]\n",
        "\n",
        "        if self.transform:\n",
        "            input_image = self.transform(input_image)\n",
        "            output_image = self.transform(output_image)\n",
        "\n",
        "        return input_image, torch.tensor(color_onehot), output_image\n",
        "\n",
        "# Define transformations\n",
        "image_transform = transforms.Compose([\n",
        "    transforms.Resize((128, 128)),\n",
        "    transforms.ToTensor(),\n",
        "    transforms.Normalize(mean=[0.5, 0.5, 0.5], std=[0.5, 0.5, 0.5])\n",
        "])\n",
        "\n",
        "# Create dataset instances\n",
        "train_dataset = PolygonDataset(data_dir='/content/dataset/training', transform=image_transform)\n",
        "val_dataset = PolygonDataset(data_dir='/content/dataset/validation', transform=image_transform)\n",
        "\n",
        "# Create DataLoaders\n",
        "train_dataloader = DataLoader(train_dataset, batch_size=16, shuffle=True)\n",
        "val_dataloader = DataLoader(val_dataset, batch_size=16, shuffle=False)\n",
        "\n",
        "print(f\"Number of training samples: {len(train_dataset)}\")\n",
        "print(f\"Number of validation samples: {len(val_dataset)}\")\n",
        "print(f\"Number of colors: {len(train_dataset.colors)}\")\n",
        "print(f\"First color one-hot encoding: {train_dataset.color_to_onehot[train_dataset.colors[0]]}\")\n",
        "\n",
        "# Get a sample batch\n",
        "input_batch, color_batch, output_batch = next(iter(train_dataloader))\n",
        "print(f\"Input batch shape: {input_batch.shape}\")\n",
        "print(f\"Color batch shape: {color_batch.shape}\")\n",
        "print(f\"Output batch shape: {output_batch.shape}\")"
      ],
      "execution_count": 7,
      "outputs": [
        {
          "output_type": "stream",
          "name": "stdout",
          "text": [
            "Number of training samples: 56\n",
            "Number of validation samples: 5\n",
            "Number of colors: 8\n",
            "First color one-hot encoding: [1. 0. 0. 0. 0. 0. 0. 0.]\n",
            "Input batch shape: torch.Size([16, 3, 128, 128])\n",
            "Color batch shape: torch.Size([16, 8])\n",
            "Output batch shape: torch.Size([16, 3, 128, 128])\n"
          ]
        }
      ]
    },
    {
      "cell_type": "markdown",
      "metadata": {
        "id": "7831315e"
      },
      "source": [
        "## Conditional unet model implementation\n",
        "\n",
        "### Subtask:\n",
        "Implement a ConditionalUNet in PyTorch with an encoder, decoder, skip connections, and conditional input for the color vector.\n"
      ]
    },
    {
      "cell_type": "code",
      "metadata": {
        "id": "11c87392"
      },
      "source": [
        "import torch.nn as nn\n",
        "import torch.nn.functional as F\n",
        "\n",
        "class ConditionalUNet(nn.Module):\n",
        "    def __init__(self, in_channels=3, out_channels=3, color_vector_dim=7, features=[64, 128, 256, 512]):\n",
        "        super(ConditionalUNet, self).__init__()\n",
        "        self.encoder = nn.ModuleList()\n",
        "        self.decoder = nn.ModuleList()\n",
        "        self.pool = nn.MaxPool2d(kernel_size=2, stride=2)\n",
        "\n",
        "        # Encoder\n",
        "        for feature in features:\n",
        "            self.encoder.append(self._conv_block(in_channels, feature))\n",
        "            in_channels = feature\n",
        "\n",
        "        # Bottleneck\n",
        "        self.bottleneck = self._conv_block(features[-1], features[-1] * 2)\n",
        "\n",
        "        # Linear layer for color conditioning\n",
        "        self.color_linear = nn.Linear(color_vector_dim, features[-1] * 2)\n",
        "\n",
        "        # Decoder\n",
        "        for feature in reversed(features):\n",
        "            self.decoder.append(nn.ConvTranspose2d(feature * 2, feature, kernel_size=2, stride=2))\n",
        "            self.decoder.append(self._conv_block(feature * 2, feature))\n",
        "\n",
        "        # Final convolution\n",
        "        self.final_conv = nn.Conv2d(features[0], out_channels, kernel_size=1)\n",
        "\n",
        "    def _conv_block(self, in_channels, out_channels):\n",
        "        return nn.Sequential(\n",
        "            nn.Conv2d(in_channels, out_channels, kernel_size=3, padding=1, bias=False),\n",
        "            nn.BatchNorm2d(out_channels),\n",
        "            nn.ReLU(inplace=True),\n",
        "            nn.Conv2d(out_channels, out_channels, kernel_size=3, padding=1, bias=False),\n",
        "            nn.BatchNorm2d(out_channels),\n",
        "            nn.ReLU(inplace=True),\n",
        "        )\n",
        "\n",
        "    def forward(self, x, color_vector):\n",
        "        skip_connections = []\n",
        "        for down in self.encoder:\n",
        "            x = down(x)\n",
        "            skip_connections.append(x)\n",
        "            x = self.pool(x)\n",
        "\n",
        "        x = self.bottleneck(x)\n",
        "\n",
        "        # Add color conditioning to the bottleneck\n",
        "        color_embedding = self.color_linear(color_vector).unsqueeze(-1).unsqueeze(-1)\n",
        "        x = x + color_embedding.expand_as(x)\n",
        "\n",
        "\n",
        "        skip_connections = skip_connections[::-1]\n",
        "\n",
        "        for i in range(0, len(self.decoder), 2):\n",
        "            x = self.decoder[i](x)\n",
        "            skip_connection = skip_connections[i//2]\n",
        "\n",
        "            # If the output size of the transposed convolution doesn't match the skip connection size\n",
        "            # due to padding/stride issues, crop the skip connection.\n",
        "            if x.shape != skip_connection.shape:\n",
        "                # Calculate the difference in spatial dimensions\n",
        "                diff_y = skip_connection.size()[2] - x.size()[2]\n",
        "                diff_x = skip_connection.size()[3] - x.size()[3]\n",
        "                # Crop the skip connection\n",
        "                skip_connection = skip_connection[:, :, diff_y//2:skip_connection.size()[2]-diff_y//2, diff_x//2:skip_connection.size()[3]-diff_x//2]\n",
        "\n",
        "\n",
        "            concat_skip = torch.cat((skip_connection, x), dim=1)\n",
        "            x = self.decoder[i+1](concat_skip)\n",
        "\n",
        "        return self.final_conv(x)\n",
        "\n",
        "# Example instantiation (assuming color_vector_dim is known from the dataset)\n",
        "# color_vector_dim = len(train_dataset.colors)\n",
        "# model = ConditionalUNet(color_vector_dim=color_vector_dim)\n",
        "# print(model)"
      ],
      "execution_count": 8,
      "outputs": []
    },
    {
      "cell_type": "markdown",
      "metadata": {
        "id": "121d6f37"
      },
      "source": [
        "## Training and tracking\n",
        "\n",
        "### Subtask:\n",
        "Login to wandb, initialize a project, train the model for 75 epochs using Adam optimizer and L1Loss, log training/validation loss and sample images to wandb, and save the final model weights.\n"
      ]
    },
    {
      "cell_type": "code",
      "metadata": {
        "colab": {
          "base_uri": "https://localhost:8080/"
        },
        "id": "4c51b3de",
        "outputId": "8455f7de-acfd-454b-f1e3-9ecb7a92007c"
      },
      "source": [
        "import torch.optim\n",
        "import torch.nn as nn\n",
        "import wandb\n",
        "import time # Import time to track epoch duration\n",
        "\n",
        "# Define the device\n",
        "device = torch.device(\"cuda\" if torch.cuda.is_available() else \"cpu\")\n",
        "print(f\"Using device: {device}\")"
      ],
      "execution_count": 9,
      "outputs": [
        {
          "output_type": "stream",
          "name": "stdout",
          "text": [
            "Using device: cuda\n"
          ]
        }
      ]
    },
    {
      "cell_type": "code",
      "metadata": {
        "colab": {
          "base_uri": "https://localhost:8080/",
          "height": 349
        },
        "id": "f0188b04",
        "outputId": "c5e43214-f461-4e83-8f02-980a9fe6484d"
      },
      "source": [
        "wandb.login()\n",
        "\n",
        "# Initialize a new wandb run\n",
        "run = wandb.init(project=\"Ayna-ML-Polygon-Coloring\")\n",
        "\n",
        "# Get the color vector dimension from the dataset\n",
        "color_vector_dim = len(train_dataset.colors)\n",
        "\n",
        "# Instantiate the model and move it to the device\n",
        "model = ConditionalUNet(color_vector_dim=color_vector_dim).to(device)\n",
        "\n",
        "# Define the loss function and optimizer\n",
        "criterion = nn.L1Loss()\n",
        "optimizer = torch.optim.Adam(model.parameters(), lr=0.0002)\n",
        "\n",
        "# Define the number of epochs\n",
        "num_epochs = 75\n",
        "\n",
        "print(\"Wandb login successful and run initialized.\")\n",
        "print(f\"Model instantiated with color vector dimension: {color_vector_dim}\")\n",
        "print(\"Loss function (L1Loss) and Adam optimizer defined.\")\n",
        "print(f\"Training for {num_epochs} epochs.\")"
      ],
      "execution_count": 10,
      "outputs": [
        {
          "output_type": "display_data",
          "data": {
            "text/plain": [
              "<IPython.core.display.Javascript object>"
            ],
            "application/javascript": [
              "\n",
              "        window._wandbApiKey = new Promise((resolve, reject) => {\n",
              "            function loadScript(url) {\n",
              "            return new Promise(function(resolve, reject) {\n",
              "                let newScript = document.createElement(\"script\");\n",
              "                newScript.onerror = reject;\n",
              "                newScript.onload = resolve;\n",
              "                document.body.appendChild(newScript);\n",
              "                newScript.src = url;\n",
              "            });\n",
              "            }\n",
              "            loadScript(\"https://cdn.jsdelivr.net/npm/postmate/build/postmate.min.js\").then(() => {\n",
              "            const iframe = document.createElement('iframe')\n",
              "            iframe.style.cssText = \"width:0;height:0;border:none\"\n",
              "            document.body.appendChild(iframe)\n",
              "            const handshake = new Postmate({\n",
              "                container: iframe,\n",
              "                url: 'https://wandb.ai/authorize'\n",
              "            });\n",
              "            const timeout = setTimeout(() => reject(\"Couldn't auto authenticate\"), 5000)\n",
              "            handshake.then(function(child) {\n",
              "                child.on('authorize', data => {\n",
              "                    clearTimeout(timeout)\n",
              "                    resolve(data)\n",
              "                });\n",
              "            });\n",
              "            })\n",
              "        });\n",
              "    "
            ]
          },
          "metadata": {}
        },
        {
          "output_type": "stream",
          "name": "stderr",
          "text": [
            "\u001b[34m\u001b[1mwandb\u001b[0m: Logging into wandb.ai. (Learn how to deploy a W&B server locally: https://wandb.me/wandb-server)\n",
            "\u001b[34m\u001b[1mwandb\u001b[0m: You can find your API key in your browser here: https://wandb.ai/authorize\n",
            "wandb: Paste an API key from your profile and hit enter:"
          ]
        },
        {
          "name": "stdout",
          "output_type": "stream",
          "text": [
            " ··········\n"
          ]
        },
        {
          "output_type": "stream",
          "name": "stderr",
          "text": [
            "\u001b[34m\u001b[1mwandb\u001b[0m: \u001b[33mWARNING\u001b[0m If you're specifying your api key in code, ensure this code is not shared publicly.\n",
            "\u001b[34m\u001b[1mwandb\u001b[0m: \u001b[33mWARNING\u001b[0m Consider setting the WANDB_API_KEY environment variable, or running `wandb login` from the command line.\n",
            "\u001b[34m\u001b[1mwandb\u001b[0m: No netrc file found, creating one.\n",
            "\u001b[34m\u001b[1mwandb\u001b[0m: Appending key for api.wandb.ai to your netrc file: /root/.netrc\n",
            "\u001b[34m\u001b[1mwandb\u001b[0m: Currently logged in as: \u001b[33matul-joshi1206\u001b[0m (\u001b[33matul-joshi1206-graphic-era-hill-university\u001b[0m) to \u001b[32mhttps://api.wandb.ai\u001b[0m. Use \u001b[1m`wandb login --relogin`\u001b[0m to force relogin\n"
          ]
        },
        {
          "output_type": "display_data",
          "data": {
            "text/plain": [
              "<IPython.core.display.HTML object>"
            ],
            "text/html": [
              "Tracking run with wandb version 0.21.0"
            ]
          },
          "metadata": {}
        },
        {
          "output_type": "display_data",
          "data": {
            "text/plain": [
              "<IPython.core.display.HTML object>"
            ],
            "text/html": [
              "Run data is saved locally in <code>/content/wandb/run-20250804_103112-hvurtopx</code>"
            ]
          },
          "metadata": {}
        },
        {
          "output_type": "display_data",
          "data": {
            "text/plain": [
              "<IPython.core.display.HTML object>"
            ],
            "text/html": [
              "Syncing run <strong><a href='https://wandb.ai/atul-joshi1206-graphic-era-hill-university/Ayna-ML-Polygon-Coloring/runs/hvurtopx' target=\"_blank\">vibrant-blaze-1</a></strong> to <a href='https://wandb.ai/atul-joshi1206-graphic-era-hill-university/Ayna-ML-Polygon-Coloring' target=\"_blank\">Weights & Biases</a> (<a href='https://wandb.me/developer-guide' target=\"_blank\">docs</a>)<br>"
            ]
          },
          "metadata": {}
        },
        {
          "output_type": "display_data",
          "data": {
            "text/plain": [
              "<IPython.core.display.HTML object>"
            ],
            "text/html": [
              " View project at <a href='https://wandb.ai/atul-joshi1206-graphic-era-hill-university/Ayna-ML-Polygon-Coloring' target=\"_blank\">https://wandb.ai/atul-joshi1206-graphic-era-hill-university/Ayna-ML-Polygon-Coloring</a>"
            ]
          },
          "metadata": {}
        },
        {
          "output_type": "display_data",
          "data": {
            "text/plain": [
              "<IPython.core.display.HTML object>"
            ],
            "text/html": [
              " View run at <a href='https://wandb.ai/atul-joshi1206-graphic-era-hill-university/Ayna-ML-Polygon-Coloring/runs/hvurtopx' target=\"_blank\">https://wandb.ai/atul-joshi1206-graphic-era-hill-university/Ayna-ML-Polygon-Coloring/runs/hvurtopx</a>"
            ]
          },
          "metadata": {}
        },
        {
          "output_type": "stream",
          "name": "stdout",
          "text": [
            "Wandb login successful and run initialized.\n",
            "Model instantiated with color vector dimension: 8\n",
            "Loss function (L1Loss) and Adam optimizer defined.\n",
            "Training for 75 epochs.\n"
          ]
        }
      ]
    },
    {
      "cell_type": "code",
      "metadata": {
        "colab": {
          "base_uri": "https://localhost:8080/",
          "height": 373
        },
        "id": "4QusvYMbotX_",
        "outputId": "016a79ff-7f87-473d-bee0-648cc4601b6f"
      },
      "source": [
        "# Training loop\n",
        "print(\"Starting training...\")\n",
        "for epoch in range(num_epochs):\n",
        "    model.train()\n",
        "    train_loss = 0.0\n",
        "    start_time = time.time()\n",
        "\n",
        "    for batch_idx, (input_img, color_vec, output_img) in enumerate(train_dataloader):\n",
        "        input_img, color_vec, output_img = input_img.to(device), color_vec.to(device), output_img.to(device)\n",
        "\n",
        "        optimizer.zero_grad()\n",
        "        outputs = model(input_img, color_vec)\n",
        "        loss = criterion(outputs, output_img)\n",
        "        loss.backward()\n",
        "        optimizer.step()\n",
        "\n",
        "        train_loss += loss.item() * input_img.size(0)\n",
        "\n",
        "    epoch_train_loss = train_loss / len(train_dataloader.dataset)\n",
        "\n",
        "    # Validation loop\n",
        "    model.eval()\n",
        "    val_loss = 0.0\n",
        "    with torch.no_grad():\n",
        "        for batch_idx, (input_img, color_vec, output_img) in enumerate(val_dataloader):\n",
        "            input_img, color_vec, output_img = input_img.to(device), color_vec.to(device), output_img.to(device)\n",
        "\n",
        "            outputs = model(input_img, color_vec)\n",
        "            loss = criterion(outputs, output_img)\n",
        "\n",
        "            val_loss += loss.item() * input_img.size(0)\n",
        "\n",
        "            # Log a sample batch of images to wandb in the first validation batch\n",
        "            if batch_idx == 0:\n",
        "                # Denormalize images for logging\n",
        "                def denormalize(tensor):\n",
        "                    tensor = tensor * 0.5 + 0.5 # Unnormalize to [0, 1]\n",
        "                    tensor = torch.clamp(tensor, 0, 1) # Clamp to ensure values are within [0, 1]\n",
        "                    return tensor\n",
        "\n",
        "                sample_input = denormalize(input_img[:4]).cpu() # Log first 4 samples\n",
        "                sample_output = denormalize(output_img[:4]).cpu()\n",
        "                sample_generated = denormalize(outputs[:4]).cpu()\n",
        "\n",
        "                # Create a grid of images\n",
        "                images_to_log = []\n",
        "                for i in range(sample_input.size(0)):\n",
        "                    images_to_log.append(wandb.Image(sample_input[i], caption=f\"Epoch {epoch+1} - Input\"))\n",
        "                    images_to_log.append(wandb.Image(sample_output[i], caption=f\"Epoch {epoch+1} - Ground Truth\"))\n",
        "                    images_to_log.append(wandb.Image(sample_generated[i], caption=f\"Epoch {epoch+1} - Generated Output\"))\n",
        "\n",
        "\n",
        "    epoch_val_loss = val_loss / len(val_dataloader.dataset)\n",
        "\n",
        "    epoch_time = time.time() - start_time\n",
        "\n",
        "    # Log metrics and images to wandb\n",
        "    wandb.log({\n",
        "        \"epoch\": epoch + 1,\n",
        "        \"train_loss\": epoch_train_loss,\n",
        "        \"val_loss\": epoch_val_loss,\n",
        "        \"epoch_time\": epoch_time,\n",
        "        \"sample_images\": images_to_log\n",
        "    })\n",
        "\n",
        "    print(f\"Epoch [{epoch+1}/{num_epochs}], Train Loss: {epoch_train_loss:.4f}, Val Loss: {epoch_val_loss:.4f}, Time: {epoch_time:.2f}s\")\n",
        "\n",
        "print(\"Training finished.\")\n",
        "\n",
        "# Save the final model weights\n",
        "model_save_path = '/content/drive/My Drive/polygon_unet_final.pth'\n",
        "torch.save(model.state_dict(), model_save_path)\n",
        "print(f\"Model weights saved to {model_save_path}\")\n",
        "\n",
        "# End the wandb run\n",
        "wandb.finish()\n",
        "print(\"Wandb run finished.\")"
      ],
      "execution_count": 11,
      "outputs": [
        {
          "output_type": "stream",
          "name": "stdout",
          "text": [
            "Starting training...\n"
          ]
        },
        {
          "output_type": "error",
          "ename": "RuntimeError",
          "evalue": "mat1 and mat2 shapes cannot be multiplied (5x4 and 8x1024)",
          "traceback": [
            "\u001b[0;31m---------------------------------------------------------------------------\u001b[0m",
            "\u001b[0;31mRuntimeError\u001b[0m                              Traceback (most recent call last)",
            "\u001b[0;32m/tmp/ipython-input-4102407422.py\u001b[0m in \u001b[0;36m<cell line: 0>\u001b[0;34m()\u001b[0m\n\u001b[1;32m     26\u001b[0m             \u001b[0minput_img\u001b[0m\u001b[0;34m,\u001b[0m \u001b[0mcolor_vec\u001b[0m\u001b[0;34m,\u001b[0m \u001b[0moutput_img\u001b[0m \u001b[0;34m=\u001b[0m \u001b[0minput_img\u001b[0m\u001b[0;34m.\u001b[0m\u001b[0mto\u001b[0m\u001b[0;34m(\u001b[0m\u001b[0mdevice\u001b[0m\u001b[0;34m)\u001b[0m\u001b[0;34m,\u001b[0m \u001b[0mcolor_vec\u001b[0m\u001b[0;34m.\u001b[0m\u001b[0mto\u001b[0m\u001b[0;34m(\u001b[0m\u001b[0mdevice\u001b[0m\u001b[0;34m)\u001b[0m\u001b[0;34m,\u001b[0m \u001b[0moutput_img\u001b[0m\u001b[0;34m.\u001b[0m\u001b[0mto\u001b[0m\u001b[0;34m(\u001b[0m\u001b[0mdevice\u001b[0m\u001b[0;34m)\u001b[0m\u001b[0;34m\u001b[0m\u001b[0;34m\u001b[0m\u001b[0m\n\u001b[1;32m     27\u001b[0m \u001b[0;34m\u001b[0m\u001b[0m\n\u001b[0;32m---> 28\u001b[0;31m             \u001b[0moutputs\u001b[0m \u001b[0;34m=\u001b[0m \u001b[0mmodel\u001b[0m\u001b[0;34m(\u001b[0m\u001b[0minput_img\u001b[0m\u001b[0;34m,\u001b[0m \u001b[0mcolor_vec\u001b[0m\u001b[0;34m)\u001b[0m\u001b[0;34m\u001b[0m\u001b[0;34m\u001b[0m\u001b[0m\n\u001b[0m\u001b[1;32m     29\u001b[0m             \u001b[0mloss\u001b[0m \u001b[0;34m=\u001b[0m \u001b[0mcriterion\u001b[0m\u001b[0;34m(\u001b[0m\u001b[0moutputs\u001b[0m\u001b[0;34m,\u001b[0m \u001b[0moutput_img\u001b[0m\u001b[0;34m)\u001b[0m\u001b[0;34m\u001b[0m\u001b[0;34m\u001b[0m\u001b[0m\n\u001b[1;32m     30\u001b[0m \u001b[0;34m\u001b[0m\u001b[0m\n",
            "\u001b[0;32m/usr/local/lib/python3.11/dist-packages/torch/nn/modules/module.py\u001b[0m in \u001b[0;36m_wrapped_call_impl\u001b[0;34m(self, *args, **kwargs)\u001b[0m\n\u001b[1;32m   1737\u001b[0m             \u001b[0;32mreturn\u001b[0m \u001b[0mself\u001b[0m\u001b[0;34m.\u001b[0m\u001b[0m_compiled_call_impl\u001b[0m\u001b[0;34m(\u001b[0m\u001b[0;34m*\u001b[0m\u001b[0margs\u001b[0m\u001b[0;34m,\u001b[0m \u001b[0;34m**\u001b[0m\u001b[0mkwargs\u001b[0m\u001b[0;34m)\u001b[0m  \u001b[0;31m# type: ignore[misc]\u001b[0m\u001b[0;34m\u001b[0m\u001b[0;34m\u001b[0m\u001b[0m\n\u001b[1;32m   1738\u001b[0m         \u001b[0;32melse\u001b[0m\u001b[0;34m:\u001b[0m\u001b[0;34m\u001b[0m\u001b[0;34m\u001b[0m\u001b[0m\n\u001b[0;32m-> 1739\u001b[0;31m             \u001b[0;32mreturn\u001b[0m \u001b[0mself\u001b[0m\u001b[0;34m.\u001b[0m\u001b[0m_call_impl\u001b[0m\u001b[0;34m(\u001b[0m\u001b[0;34m*\u001b[0m\u001b[0margs\u001b[0m\u001b[0;34m,\u001b[0m \u001b[0;34m**\u001b[0m\u001b[0mkwargs\u001b[0m\u001b[0;34m)\u001b[0m\u001b[0;34m\u001b[0m\u001b[0;34m\u001b[0m\u001b[0m\n\u001b[0m\u001b[1;32m   1740\u001b[0m \u001b[0;34m\u001b[0m\u001b[0m\n\u001b[1;32m   1741\u001b[0m     \u001b[0;31m# torchrec tests the code consistency with the following code\u001b[0m\u001b[0;34m\u001b[0m\u001b[0;34m\u001b[0m\u001b[0m\n",
            "\u001b[0;32m/usr/local/lib/python3.11/dist-packages/torch/nn/modules/module.py\u001b[0m in \u001b[0;36m_call_impl\u001b[0;34m(self, *args, **kwargs)\u001b[0m\n\u001b[1;32m   1748\u001b[0m                 \u001b[0;32mor\u001b[0m \u001b[0m_global_backward_pre_hooks\u001b[0m \u001b[0;32mor\u001b[0m \u001b[0m_global_backward_hooks\u001b[0m\u001b[0;34m\u001b[0m\u001b[0;34m\u001b[0m\u001b[0m\n\u001b[1;32m   1749\u001b[0m                 or _global_forward_hooks or _global_forward_pre_hooks):\n\u001b[0;32m-> 1750\u001b[0;31m             \u001b[0;32mreturn\u001b[0m \u001b[0mforward_call\u001b[0m\u001b[0;34m(\u001b[0m\u001b[0;34m*\u001b[0m\u001b[0margs\u001b[0m\u001b[0;34m,\u001b[0m \u001b[0;34m**\u001b[0m\u001b[0mkwargs\u001b[0m\u001b[0;34m)\u001b[0m\u001b[0;34m\u001b[0m\u001b[0;34m\u001b[0m\u001b[0m\n\u001b[0m\u001b[1;32m   1751\u001b[0m \u001b[0;34m\u001b[0m\u001b[0m\n\u001b[1;32m   1752\u001b[0m         \u001b[0mresult\u001b[0m \u001b[0;34m=\u001b[0m \u001b[0;32mNone\u001b[0m\u001b[0;34m\u001b[0m\u001b[0;34m\u001b[0m\u001b[0m\n",
            "\u001b[0;32m/tmp/ipython-input-2680902044.py\u001b[0m in \u001b[0;36mforward\u001b[0;34m(self, x, color_vector)\u001b[0m\n\u001b[1;32m     48\u001b[0m \u001b[0;34m\u001b[0m\u001b[0m\n\u001b[1;32m     49\u001b[0m         \u001b[0;31m# Add color conditioning to the bottleneck\u001b[0m\u001b[0;34m\u001b[0m\u001b[0;34m\u001b[0m\u001b[0m\n\u001b[0;32m---> 50\u001b[0;31m         \u001b[0mcolor_embedding\u001b[0m \u001b[0;34m=\u001b[0m \u001b[0mself\u001b[0m\u001b[0;34m.\u001b[0m\u001b[0mcolor_linear\u001b[0m\u001b[0;34m(\u001b[0m\u001b[0mcolor_vector\u001b[0m\u001b[0;34m)\u001b[0m\u001b[0;34m.\u001b[0m\u001b[0munsqueeze\u001b[0m\u001b[0;34m(\u001b[0m\u001b[0;34m-\u001b[0m\u001b[0;36m1\u001b[0m\u001b[0;34m)\u001b[0m\u001b[0;34m.\u001b[0m\u001b[0munsqueeze\u001b[0m\u001b[0;34m(\u001b[0m\u001b[0;34m-\u001b[0m\u001b[0;36m1\u001b[0m\u001b[0;34m)\u001b[0m\u001b[0;34m\u001b[0m\u001b[0;34m\u001b[0m\u001b[0m\n\u001b[0m\u001b[1;32m     51\u001b[0m         \u001b[0mx\u001b[0m \u001b[0;34m=\u001b[0m \u001b[0mx\u001b[0m \u001b[0;34m+\u001b[0m \u001b[0mcolor_embedding\u001b[0m\u001b[0;34m.\u001b[0m\u001b[0mexpand_as\u001b[0m\u001b[0;34m(\u001b[0m\u001b[0mx\u001b[0m\u001b[0;34m)\u001b[0m\u001b[0;34m\u001b[0m\u001b[0;34m\u001b[0m\u001b[0m\n\u001b[1;32m     52\u001b[0m \u001b[0;34m\u001b[0m\u001b[0m\n",
            "\u001b[0;32m/usr/local/lib/python3.11/dist-packages/torch/nn/modules/module.py\u001b[0m in \u001b[0;36m_wrapped_call_impl\u001b[0;34m(self, *args, **kwargs)\u001b[0m\n\u001b[1;32m   1737\u001b[0m             \u001b[0;32mreturn\u001b[0m \u001b[0mself\u001b[0m\u001b[0;34m.\u001b[0m\u001b[0m_compiled_call_impl\u001b[0m\u001b[0;34m(\u001b[0m\u001b[0;34m*\u001b[0m\u001b[0margs\u001b[0m\u001b[0;34m,\u001b[0m \u001b[0;34m**\u001b[0m\u001b[0mkwargs\u001b[0m\u001b[0;34m)\u001b[0m  \u001b[0;31m# type: ignore[misc]\u001b[0m\u001b[0;34m\u001b[0m\u001b[0;34m\u001b[0m\u001b[0m\n\u001b[1;32m   1738\u001b[0m         \u001b[0;32melse\u001b[0m\u001b[0;34m:\u001b[0m\u001b[0;34m\u001b[0m\u001b[0;34m\u001b[0m\u001b[0m\n\u001b[0;32m-> 1739\u001b[0;31m             \u001b[0;32mreturn\u001b[0m \u001b[0mself\u001b[0m\u001b[0;34m.\u001b[0m\u001b[0m_call_impl\u001b[0m\u001b[0;34m(\u001b[0m\u001b[0;34m*\u001b[0m\u001b[0margs\u001b[0m\u001b[0;34m,\u001b[0m \u001b[0;34m**\u001b[0m\u001b[0mkwargs\u001b[0m\u001b[0;34m)\u001b[0m\u001b[0;34m\u001b[0m\u001b[0;34m\u001b[0m\u001b[0m\n\u001b[0m\u001b[1;32m   1740\u001b[0m \u001b[0;34m\u001b[0m\u001b[0m\n\u001b[1;32m   1741\u001b[0m     \u001b[0;31m# torchrec tests the code consistency with the following code\u001b[0m\u001b[0;34m\u001b[0m\u001b[0;34m\u001b[0m\u001b[0m\n",
            "\u001b[0;32m/usr/local/lib/python3.11/dist-packages/torch/nn/modules/module.py\u001b[0m in \u001b[0;36m_call_impl\u001b[0;34m(self, *args, **kwargs)\u001b[0m\n\u001b[1;32m   1748\u001b[0m                 \u001b[0;32mor\u001b[0m \u001b[0m_global_backward_pre_hooks\u001b[0m \u001b[0;32mor\u001b[0m \u001b[0m_global_backward_hooks\u001b[0m\u001b[0;34m\u001b[0m\u001b[0;34m\u001b[0m\u001b[0m\n\u001b[1;32m   1749\u001b[0m                 or _global_forward_hooks or _global_forward_pre_hooks):\n\u001b[0;32m-> 1750\u001b[0;31m             \u001b[0;32mreturn\u001b[0m \u001b[0mforward_call\u001b[0m\u001b[0;34m(\u001b[0m\u001b[0;34m*\u001b[0m\u001b[0margs\u001b[0m\u001b[0;34m,\u001b[0m \u001b[0;34m**\u001b[0m\u001b[0mkwargs\u001b[0m\u001b[0;34m)\u001b[0m\u001b[0;34m\u001b[0m\u001b[0;34m\u001b[0m\u001b[0m\n\u001b[0m\u001b[1;32m   1751\u001b[0m \u001b[0;34m\u001b[0m\u001b[0m\n\u001b[1;32m   1752\u001b[0m         \u001b[0mresult\u001b[0m \u001b[0;34m=\u001b[0m \u001b[0;32mNone\u001b[0m\u001b[0;34m\u001b[0m\u001b[0;34m\u001b[0m\u001b[0m\n",
            "\u001b[0;32m/usr/local/lib/python3.11/dist-packages/torch/nn/modules/linear.py\u001b[0m in \u001b[0;36mforward\u001b[0;34m(self, input)\u001b[0m\n\u001b[1;32m    123\u001b[0m \u001b[0;34m\u001b[0m\u001b[0m\n\u001b[1;32m    124\u001b[0m     \u001b[0;32mdef\u001b[0m \u001b[0mforward\u001b[0m\u001b[0;34m(\u001b[0m\u001b[0mself\u001b[0m\u001b[0;34m,\u001b[0m \u001b[0minput\u001b[0m\u001b[0;34m:\u001b[0m \u001b[0mTensor\u001b[0m\u001b[0;34m)\u001b[0m \u001b[0;34m->\u001b[0m \u001b[0mTensor\u001b[0m\u001b[0;34m:\u001b[0m\u001b[0;34m\u001b[0m\u001b[0;34m\u001b[0m\u001b[0m\n\u001b[0;32m--> 125\u001b[0;31m         \u001b[0;32mreturn\u001b[0m \u001b[0mF\u001b[0m\u001b[0;34m.\u001b[0m\u001b[0mlinear\u001b[0m\u001b[0;34m(\u001b[0m\u001b[0minput\u001b[0m\u001b[0;34m,\u001b[0m \u001b[0mself\u001b[0m\u001b[0;34m.\u001b[0m\u001b[0mweight\u001b[0m\u001b[0;34m,\u001b[0m \u001b[0mself\u001b[0m\u001b[0;34m.\u001b[0m\u001b[0mbias\u001b[0m\u001b[0;34m)\u001b[0m\u001b[0;34m\u001b[0m\u001b[0;34m\u001b[0m\u001b[0m\n\u001b[0m\u001b[1;32m    126\u001b[0m \u001b[0;34m\u001b[0m\u001b[0m\n\u001b[1;32m    127\u001b[0m     \u001b[0;32mdef\u001b[0m \u001b[0mextra_repr\u001b[0m\u001b[0;34m(\u001b[0m\u001b[0mself\u001b[0m\u001b[0;34m)\u001b[0m \u001b[0;34m->\u001b[0m \u001b[0mstr\u001b[0m\u001b[0;34m:\u001b[0m\u001b[0;34m\u001b[0m\u001b[0;34m\u001b[0m\u001b[0m\n",
            "\u001b[0;31mRuntimeError\u001b[0m: mat1 and mat2 shapes cannot be multiplied (5x4 and 8x1024)"
          ]
        }
      ]
    },
    {
      "cell_type": "code",
      "metadata": {
        "colab": {
          "base_uri": "https://localhost:8080/",
          "height": 1000
        },
        "id": "30XoOr3Upo9I",
        "outputId": "54398711-0dbb-499b-e54a-362bf4487282"
      },
      "source": [
        "import os\n",
        "import json\n",
        "from PIL import Image\n",
        "import torch\n",
        "from torch.utils.data import Dataset, DataLoader\n",
        "from torchvision import transforms\n",
        "import numpy as np\n",
        "import torch.nn as nn\n",
        "import torch.nn.functional as F\n",
        "import torch.optim\n",
        "import wandb\n",
        "import time\n",
        "\n",
        "# Redefine the PolygonDataset class to accept a list of all unique colors\n",
        "class PolygonDataset(Dataset):\n",
        "    def __init__(self, data_dir, all_colors, transform=None):\n",
        "        self.data_dir = data_dir\n",
        "        self.transform = transform\n",
        "        self.data = self._load_data()\n",
        "        self.colors = sorted(all_colors) # Use the provided list of all colors\n",
        "        self.color_to_onehot = self._create_onehot_encoding()\n",
        "        self.num_colors = len(self.colors) # Store num_colors\n",
        "\n",
        "    def _load_data(self):\n",
        "        data_path = os.path.join(self.data_dir, 'data.json')\n",
        "        with open(data_path, 'r') as f:\n",
        "            data = json.load(f)\n",
        "        return data\n",
        "\n",
        "    def _create_onehot_encoding(self):\n",
        "        color_to_onehot = {}\n",
        "        num_colors = len(self.colors)\n",
        "        for i, color in enumerate(self.colors):\n",
        "            onehot = np.zeros(num_colors, dtype=np.float32);\n",
        "            onehot[i] = 1.0\n",
        "            color_to_onehot[color] = onehot\n",
        "        return color_to_onehot\n",
        "\n",
        "    def __len__(self):\n",
        "        return len(self.data)\n",
        "\n",
        "    def __getitem__(self, idx):\n",
        "        item = self.data[idx]\n",
        "        # Correct keys are 'input_polygon' and 'output_image', color is 'colour'\n",
        "        input_img_path = os.path.join(self.data_dir, 'inputs', item['input_polygon'])\n",
        "        output_img_path = os.path.join(self.data_dir, 'outputs', item['output_image'])\n",
        "        color = item['colour']\n",
        "\n",
        "        input_image = Image.open(input_img_path).convert('RGB')\n",
        "        output_image = Image.open(output_img_path).convert('RGB')\n",
        "        color_onehot = self.color_to_onehot[color]\n",
        "\n",
        "        if self.transform:\n",
        "            input_image = self.transform(input_image)\n",
        "            output_image = self.transform(output_image)\n",
        "\n",
        "        # Print shape and dtype before converting to tensor inside __getitem__ (can be commented out now)\n",
        "        # print(f\"Dataset __getitem__ (idx {idx}) - color_onehot shape: {color_onehot.shape}, dtype: {color_onehot.dtype}, color: {color}\")\n",
        "\n",
        "        return input_image, torch.tensor(color_onehot), output_image\n",
        "\n",
        "# Redefine the ConditionalUNet class (remove previous print statement as it's no longer needed)\n",
        "class ConditionalUNet(nn.Module):\n",
        "    def __init__(self, in_channels=3, out_channels=3, color_vector_dim=8, features=[64, 128, 256, 512]):\n",
        "        super(ConditionalUNet, self).__init__()\n",
        "        self.encoder = nn.ModuleList()\n",
        "        self.decoder = nn.ModuleList()\n",
        "        self.pool = nn.MaxPool2d(kernel_size=2, stride=2)\n",
        "\n",
        "        # Encoder\n",
        "        for feature in features:\n",
        "            self.encoder.append(self._conv_block(in_channels, feature))\n",
        "            in_channels = feature\n",
        "\n",
        "        # Bottleneck\n",
        "        self.bottleneck = self._conv_block(features[-1], features[-1] * 2)\n",
        "\n",
        "        # Linear layer for color conditioning\n",
        "        self.color_linear = nn.Linear(color_vector_dim, features[-1] * 2)\n",
        "\n",
        "        # Decoder\n",
        "        for feature in reversed(features):\n",
        "            self.decoder.append(nn.ConvTranspose2d(feature * 2, feature, kernel_size=2, stride=2))\n",
        "            self.decoder.append(self._conv_block(feature * 2, feature))\n",
        "\n",
        "        # Final convolution\n",
        "        self.final_conv = nn.Conv2d(features[0], out_channels, kernel_size=1)\n",
        "\n",
        "    def _conv_block(self, in_channels, out_channels):\n",
        "        return nn.Sequential(\n",
        "            nn.Conv2d(in_channels, out_channels, kernel_size=3, padding=1, bias=False),\n",
        "            nn.BatchNorm2d(out_channels),\n",
        "            nn.ReLU(inplace=True),\n",
        "            nn.Conv2d(out_channels, out_channels, kernel_size=3, padding=1, bias=False),\n",
        "            nn.BatchNorm2d(out_channels),\n",
        "            nn.ReLU(inplace=True),\n",
        "        )\n",
        "\n",
        "    def forward(self, x, color_vector):\n",
        "        skip_connections = []\n",
        "        for down in self.encoder:\n",
        "            x = down(x);\n",
        "            skip_connections.append(x);\n",
        "            x = self.pool(x);\n",
        "\n",
        "        x = self.bottleneck(x);\n",
        "\n",
        "        # Add color conditioning to the bottleneck\n",
        "        color_embedding = self.color_linear(color_vector).unsqueeze(-1).unsqueeze(-1);\n",
        "        x = x + color_embedding.expand_as(x);\n",
        "\n",
        "\n",
        "        skip_connections = skip_connections[::-1]\n",
        "\n",
        "        for i in range(0, len(self.decoder), 2):\n",
        "            x = self.decoder[i](x)\n",
        "            skip_connection = skip_connections[i//2]\n",
        "\n",
        "            # If the output size of the transposed convolution doesn't match the skip connection size\n",
        "            # due to padding/stride issues, crop the skip connection.\n",
        "            if x.shape != skip_connection.shape:\n",
        "                # Calculate the difference in spatial dimensions\n",
        "                diff_y = skip_connection.size()[2] - x.size()[2]\n",
        "                diff_x = skip_connection.size()[3] - x.size()[3]\n",
        "                # Crop the skip connection\n",
        "                skip_connection = skip_connection[:, :, diff_y//2:skip_connection.size()[2]-diff_y//2, diff_x//2:skip_connection.size()[3]-diff_x//2]\n",
        "\n",
        "\n",
        "            concat_skip = torch.cat((skip_connection, x), dim=1)\n",
        "            x = self.decoder[i+1](concat_skip)\n",
        "\n",
        "        return self.final_conv(x)\n",
        "\n",
        "# Define transformations\n",
        "image_transform = transforms.Compose([\n",
        "    transforms.Resize((128, 128)),\n",
        "    transforms.ToTensor(),\n",
        "    transforms.Normalize(mean=[0.5, 0.5, 0.5], std=[0.5, 0.5, 0.5])\n",
        "])\n",
        "\n",
        "# Load all unique colors from both training and validation datasets\n",
        "train_data_path = '/content/dataset/training/data.json'\n",
        "val_data_path = '/content/dataset/validation/data.json'\n",
        "\n",
        "with open(train_data_path, 'r') as f:\n",
        "    train_data = json.load(f)\n",
        "with open(val_data_path, 'r') as f:\n",
        "    val_data = json.load(f)\n",
        "\n",
        "all_colors_set = set([item['colour'] for item in train_data] + [item['colour'] for item in val_data])\n",
        "all_colors_list = list(all_colors_set)\n",
        "print(f\"All unique colors across both datasets: {all_colors_list}\")\n",
        "print(f\"Number of unique colors: {len(all_colors_list)}\")\n",
        "\n",
        "# Create dataset instances, passing the complete list of all_colors\n",
        "train_dataset = PolygonDataset(data_dir='/content/dataset/training', all_colors=all_colors_list, transform=image_transform)\n",
        "val_dataset = PolygonDataset(data_dir='/content/dataset/validation', all_colors=all_colors_list, transform=image_transform)\n",
        "\n",
        "# Create DataLoaders\n",
        "train_dataloader = DataLoader(train_dataset, batch_size=16, shuffle=True)\n",
        "val_dataloader = DataLoader(val_dataset, batch_size=16, shuffle=False)\n",
        "\n",
        "\n",
        "# Define the device\n",
        "device = torch.device(\"cuda\" if torch.cuda.is_available() else \"cpu\")\n",
        "print(f\"Using device: {device}\")\n",
        "\n",
        "# Instantiate the model with the correct color_vector_dim (based on all colors)\n",
        "color_vector_dim = len(all_colors_list) # Use the length of the combined color list\n",
        "model = ConditionalUNet(color_vector_dim=color_vector_dim).to(device)\n",
        "\n",
        "# Define optimizer and loss function\n",
        "optimizer = torch.optim.Adam(model.parameters(), lr=0.0002)\n",
        "criterion = nn.L1Loss()\n",
        "\n",
        "# Increase the number of epochs for further training\n",
        "num_epochs = 250 # Increased from 75\n",
        "\n",
        "# Login to wandb and initialize a project\n",
        "# Only initialize if not already initialized from a previous run attempt\n",
        "if wandb.run is None:\n",
        "    wandb.login(relogin=True) # Use relogin=True to handle potential previous failed runs\n",
        "    run = wandb.init(project=\"Ayna-ML-Polygon-Coloring\", config={\n",
        "        \"num_epochs\": num_epochs,\n",
        "        \"batch_size\": 24,\n",
        "        \"learning_rate\": 0.0001,\n",
        "        \"loss_function\": \"L1Loss\",\n",
        "        \"optimizer\": \"Adam\",\n",
        "        \"color_vector_dim\": color_vector_dim,\n",
        "        \"architecture\": \"ConditionalUNet\"\n",
        "    })\n",
        "else:\n",
        "    # If a run is already active (e.g., due to previous cell execution), use it\n",
        "    run = wandb.run\n",
        "\n",
        "print(\"Starting training after fixing dataset color handling and increasing epochs...\")\n",
        "for epoch in range(num_epochs):\n",
        "    model.train()\n",
        "    train_loss = 0.0\n",
        "    start_time = time.time()\n",
        "\n",
        "    for batch_idx, (input_img, color_vec, output_img) in enumerate(train_dataloader):\n",
        "        input_img, color_vec, output_img = input_img.to(device), color_vec.to(device), output_img.to(device)\n",
        "\n",
        "        optimizer.zero_grad()\n",
        "        outputs = model(input_img, color_vec);\n",
        "        loss = criterion(outputs, output_img)\n",
        "        loss.backward()\n",
        "        optimizer.step()\n",
        "\n",
        "        train_loss += loss.item() * input_img.size(0)\n",
        "\n",
        "    epoch_train_loss = train_loss / len(train_dataloader.dataset)\n",
        "\n",
        "    # Validation loop\n",
        "    model.eval()\n",
        "    val_loss = 0.0\n",
        "    with torch.no_grad():\n",
        "        for batch_idx, (input_img, color_vec, output_img) in enumerate(val_dataloader):\n",
        "            input_img, color_vec, output_img = input_img.to(device), color_vec.to(device), output_img.to(device)\n",
        "\n",
        "            outputs = model(input_img, color_vec);\n",
        "            loss = criterion(outputs, output_img)\n",
        "\n",
        "            val_loss += loss.item() * input_img.size(0)\n",
        "\n",
        "            # Log a sample batch of images to wandb in the first validation batch\n",
        "            if batch_idx == 0:\n",
        "                # Denormalize images for logging\n",
        "                def denormalize(tensor):\n",
        "                    tensor = tensor * 0.5 + 0.5 # Unnormalize to [0, 1]\n",
        "                    tensor = torch.clamp(tensor, 0, 1) # Clamp to ensure values are within [0, 1]\n",
        "                    return tensor\n",
        "\n",
        "                sample_input = denormalize(input_img[:4]).cpu() # Log first 4 samples\n",
        "                sample_output = denormalize(output_img[:4]).cpu()\n",
        "                sample_generated = denormalize(outputs[:4]).cpu()\n",
        "\n",
        "                # Create a grid of images\n",
        "                images_to_log = []\n",
        "                for i in range(sample_input.size(0)):\n",
        "                    images_to_log.append(wandb.Image(sample_input[i], caption=f\"Epoch {epoch+1} - Input\"))\n",
        "                    images_to_log.append(wandb.Image(sample_output[i], caption=f\"Epoch {epoch+1} - Ground Truth\"))\n",
        "                    images_to_log.append(wandb.Image(sample_generated[i], caption=f\"Epoch {epoch+1} - Generated Output\"))\n",
        "\n",
        "\n",
        "    epoch_val_loss = val_loss / len(val_dataloader.dataset)\n",
        "\n",
        "    epoch_time = time.time() - start_time\n",
        "\n",
        "    # Log metrics and images to wandb\n",
        "    wandb.log({\n",
        "        \"epoch\": epoch + 1,\n",
        "        \"train_loss\": epoch_train_loss,\n",
        "        \"val_loss\": epoch_val_loss,\n",
        "        \"epoch_time\": epoch_time,\n",
        "        \"sample_images\": images_to_log\n",
        "    })\n",
        "\n",
        "    print(f\"Epoch [{epoch+1}/{num_epochs}], Train Loss: {epoch_train_loss:.4f}, Val Loss: {epoch_val_loss:.4f}, Time: {epoch_time:.2f}s\")\n",
        "\n",
        "print(\"Training finished.\")\n",
        "\n",
        "# Save the final model weights\n",
        "model_save_path = '/content/drive/My Drive/polygon_unet_final.pth'\n",
        "torch.save(model.state_dict(), model_save_path)\n",
        "print(f\"Model weights saved to {model_save_path}\")\n",
        "\n",
        "# End the wandb run gracefully\n",
        "wandb.finish()\n",
        "print(\"Wandb run finished.\")"
      ],
      "execution_count": 27,
      "outputs": [
        {
          "output_type": "stream",
          "name": "stdout",
          "text": [
            "All unique colors across both datasets: ['purple', 'orange', 'red', 'blue', 'cyan', 'green', 'yellow', 'magenta']\n",
            "Number of unique colors: 8\n",
            "Using device: cuda\n"
          ]
        },
        {
          "output_type": "display_data",
          "data": {
            "text/plain": [
              "<IPython.core.display.Javascript object>"
            ],
            "application/javascript": [
              "\n",
              "        window._wandbApiKey = new Promise((resolve, reject) => {\n",
              "            function loadScript(url) {\n",
              "            return new Promise(function(resolve, reject) {\n",
              "                let newScript = document.createElement(\"script\");\n",
              "                newScript.onerror = reject;\n",
              "                newScript.onload = resolve;\n",
              "                document.body.appendChild(newScript);\n",
              "                newScript.src = url;\n",
              "            });\n",
              "            }\n",
              "            loadScript(\"https://cdn.jsdelivr.net/npm/postmate/build/postmate.min.js\").then(() => {\n",
              "            const iframe = document.createElement('iframe')\n",
              "            iframe.style.cssText = \"width:0;height:0;border:none\"\n",
              "            document.body.appendChild(iframe)\n",
              "            const handshake = new Postmate({\n",
              "                container: iframe,\n",
              "                url: 'https://wandb.ai/authorize'\n",
              "            });\n",
              "            const timeout = setTimeout(() => reject(\"Couldn't auto authenticate\"), 5000)\n",
              "            handshake.then(function(child) {\n",
              "                child.on('authorize', data => {\n",
              "                    clearTimeout(timeout)\n",
              "                    resolve(data)\n",
              "                });\n",
              "            });\n",
              "            })\n",
              "        });\n",
              "    "
            ]
          },
          "metadata": {}
        },
        {
          "output_type": "stream",
          "name": "stderr",
          "text": [
            "\u001b[34m\u001b[1mwandb\u001b[0m: Logging into wandb.ai. (Learn how to deploy a W&B server locally: https://wandb.me/wandb-server)\n",
            "\u001b[34m\u001b[1mwandb\u001b[0m: You can find your API key in your browser here: https://wandb.ai/authorize\n",
            "wandb: Paste an API key from your profile and hit enter:"
          ]
        },
        {
          "name": "stdout",
          "output_type": "stream",
          "text": [
            " ··········\n"
          ]
        },
        {
          "output_type": "stream",
          "name": "stderr",
          "text": [
            "\u001b[34m\u001b[1mwandb\u001b[0m: \u001b[33mWARNING\u001b[0m If you're specifying your api key in code, ensure this code is not shared publicly.\n",
            "\u001b[34m\u001b[1mwandb\u001b[0m: \u001b[33mWARNING\u001b[0m Consider setting the WANDB_API_KEY environment variable, or running `wandb login` from the command line.\n",
            "\u001b[34m\u001b[1mwandb\u001b[0m: Appending key for api.wandb.ai to your netrc file: /root/.netrc\n"
          ]
        },
        {
          "output_type": "display_data",
          "data": {
            "text/plain": [
              "<IPython.core.display.HTML object>"
            ],
            "text/html": [
              "Tracking run with wandb version 0.21.0"
            ]
          },
          "metadata": {}
        },
        {
          "output_type": "display_data",
          "data": {
            "text/plain": [
              "<IPython.core.display.HTML object>"
            ],
            "text/html": [
              "Run data is saved locally in <code>/content/wandb/run-20250804_104617-6nx6go3y</code>"
            ]
          },
          "metadata": {}
        },
        {
          "output_type": "display_data",
          "data": {
            "text/plain": [
              "<IPython.core.display.HTML object>"
            ],
            "text/html": [
              "Syncing run <strong><a href='https://wandb.ai/atul-joshi1206-graphic-era-hill-university/Ayna-ML-Polygon-Coloring/runs/6nx6go3y' target=\"_blank\">lunar-terrain-3</a></strong> to <a href='https://wandb.ai/atul-joshi1206-graphic-era-hill-university/Ayna-ML-Polygon-Coloring' target=\"_blank\">Weights & Biases</a> (<a href='https://wandb.me/developer-guide' target=\"_blank\">docs</a>)<br>"
            ]
          },
          "metadata": {}
        },
        {
          "output_type": "display_data",
          "data": {
            "text/plain": [
              "<IPython.core.display.HTML object>"
            ],
            "text/html": [
              " View project at <a href='https://wandb.ai/atul-joshi1206-graphic-era-hill-university/Ayna-ML-Polygon-Coloring' target=\"_blank\">https://wandb.ai/atul-joshi1206-graphic-era-hill-university/Ayna-ML-Polygon-Coloring</a>"
            ]
          },
          "metadata": {}
        },
        {
          "output_type": "display_data",
          "data": {
            "text/plain": [
              "<IPython.core.display.HTML object>"
            ],
            "text/html": [
              " View run at <a href='https://wandb.ai/atul-joshi1206-graphic-era-hill-university/Ayna-ML-Polygon-Coloring/runs/6nx6go3y' target=\"_blank\">https://wandb.ai/atul-joshi1206-graphic-era-hill-university/Ayna-ML-Polygon-Coloring/runs/6nx6go3y</a>"
            ]
          },
          "metadata": {}
        },
        {
          "output_type": "stream",
          "name": "stdout",
          "text": [
            "Starting training after fixing dataset color handling and increasing epochs...\n",
            "Epoch [1/250], Train Loss: 0.9606, Val Loss: 1.0039, Time: 0.90s\n",
            "Epoch [2/250], Train Loss: 0.8194, Val Loss: 0.9530, Time: 0.84s\n",
            "Epoch [3/250], Train Loss: 0.7263, Val Loss: 0.8684, Time: 0.84s\n",
            "Epoch [4/250], Train Loss: 0.6675, Val Loss: 0.7814, Time: 0.85s\n",
            "Epoch [5/250], Train Loss: 0.6232, Val Loss: 0.7011, Time: 0.84s\n",
            "Epoch [6/250], Train Loss: 0.5778, Val Loss: 0.6321, Time: 0.85s\n",
            "Epoch [7/250], Train Loss: 0.5383, Val Loss: 0.5704, Time: 0.85s\n",
            "Epoch [8/250], Train Loss: 0.5053, Val Loss: 0.4987, Time: 0.84s\n",
            "Epoch [9/250], Train Loss: 0.4900, Val Loss: 0.4300, Time: 0.84s\n",
            "Epoch [10/250], Train Loss: 0.4601, Val Loss: 0.4331, Time: 0.84s\n",
            "Epoch [11/250], Train Loss: 0.4293, Val Loss: 0.4195, Time: 0.85s\n",
            "Epoch [12/250], Train Loss: 0.4040, Val Loss: 0.3697, Time: 0.85s\n",
            "Epoch [13/250], Train Loss: 0.3859, Val Loss: 0.3654, Time: 0.90s\n",
            "Epoch [14/250], Train Loss: 0.3697, Val Loss: 0.3201, Time: 0.89s\n",
            "Epoch [15/250], Train Loss: 0.3499, Val Loss: 0.3032, Time: 0.88s\n",
            "Epoch [16/250], Train Loss: 0.3280, Val Loss: 0.3017, Time: 0.89s\n",
            "Epoch [17/250], Train Loss: 0.3179, Val Loss: 0.2615, Time: 0.86s\n",
            "Epoch [18/250], Train Loss: 0.3020, Val Loss: 0.2745, Time: 0.85s\n",
            "Epoch [19/250], Train Loss: 0.2830, Val Loss: 0.2528, Time: 0.85s\n",
            "Epoch [20/250], Train Loss: 0.2792, Val Loss: 0.2135, Time: 0.85s\n",
            "Epoch [21/250], Train Loss: 0.2499, Val Loss: 0.2175, Time: 0.85s\n",
            "Epoch [22/250], Train Loss: 0.2503, Val Loss: 0.2147, Time: 0.85s\n",
            "Epoch [23/250], Train Loss: 0.2313, Val Loss: 0.2198, Time: 0.86s\n",
            "Epoch [24/250], Train Loss: 0.2200, Val Loss: 0.2190, Time: 0.86s\n",
            "Epoch [25/250], Train Loss: 0.2171, Val Loss: 0.2121, Time: 0.86s\n",
            "Epoch [26/250], Train Loss: 0.2184, Val Loss: 0.2013, Time: 0.85s\n",
            "Epoch [27/250], Train Loss: 0.1924, Val Loss: 0.2110, Time: 0.86s\n",
            "Epoch [28/250], Train Loss: 0.1880, Val Loss: 0.2191, Time: 0.88s\n",
            "Epoch [29/250], Train Loss: 0.2045, Val Loss: 0.2251, Time: 0.89s\n",
            "Epoch [30/250], Train Loss: 0.1905, Val Loss: 0.1802, Time: 0.90s\n",
            "Epoch [31/250], Train Loss: 0.1873, Val Loss: 0.1848, Time: 0.89s\n",
            "Epoch [32/250], Train Loss: 0.1750, Val Loss: 0.1739, Time: 0.89s\n",
            "Epoch [33/250], Train Loss: 0.1851, Val Loss: 0.1779, Time: 0.86s\n",
            "Epoch [34/250], Train Loss: 0.1693, Val Loss: 0.1777, Time: 0.86s\n",
            "Epoch [35/250], Train Loss: 0.1832, Val Loss: 0.1712, Time: 0.87s\n",
            "Epoch [36/250], Train Loss: 0.1904, Val Loss: 0.1542, Time: 0.86s\n",
            "Epoch [37/250], Train Loss: 0.1739, Val Loss: 0.1626, Time: 0.87s\n",
            "Epoch [38/250], Train Loss: 0.1619, Val Loss: 0.1495, Time: 0.86s\n",
            "Epoch [39/250], Train Loss: 0.1661, Val Loss: 0.1748, Time: 0.86s\n",
            "Epoch [40/250], Train Loss: 0.1792, Val Loss: 0.1721, Time: 0.87s\n",
            "Epoch [41/250], Train Loss: 0.1675, Val Loss: 0.1578, Time: 0.86s\n",
            "Epoch [42/250], Train Loss: 0.1594, Val Loss: 0.1921, Time: 0.86s\n",
            "Epoch [43/250], Train Loss: 0.1612, Val Loss: 0.1793, Time: 0.86s\n",
            "Epoch [44/250], Train Loss: 0.1530, Val Loss: 0.1553, Time: 0.89s\n",
            "Epoch [45/250], Train Loss: 0.1472, Val Loss: 0.1371, Time: 0.90s\n",
            "Epoch [46/250], Train Loss: 0.1558, Val Loss: 0.1328, Time: 0.89s\n",
            "Epoch [47/250], Train Loss: 0.1474, Val Loss: 0.1299, Time: 0.91s\n",
            "Epoch [48/250], Train Loss: 0.1503, Val Loss: 0.1227, Time: 0.89s\n",
            "Epoch [49/250], Train Loss: 0.1380, Val Loss: 0.1262, Time: 0.86s\n",
            "Epoch [50/250], Train Loss: 0.1459, Val Loss: 0.1185, Time: 0.86s\n",
            "Epoch [51/250], Train Loss: 0.1428, Val Loss: 0.1057, Time: 0.86s\n",
            "Epoch [52/250], Train Loss: 0.1292, Val Loss: 0.1073, Time: 0.86s\n",
            "Epoch [53/250], Train Loss: 0.1305, Val Loss: 0.1080, Time: 0.86s\n",
            "Epoch [54/250], Train Loss: 0.1279, Val Loss: 0.1062, Time: 0.86s\n",
            "Epoch [55/250], Train Loss: 0.1354, Val Loss: 0.0910, Time: 0.86s\n",
            "Epoch [56/250], Train Loss: 0.1241, Val Loss: 0.1062, Time: 0.86s\n",
            "Epoch [57/250], Train Loss: 0.1290, Val Loss: 0.1045, Time: 0.85s\n",
            "Epoch [58/250], Train Loss: 0.1284, Val Loss: 0.0879, Time: 0.85s\n",
            "Epoch [59/250], Train Loss: 0.1171, Val Loss: 0.0839, Time: 0.86s\n",
            "Epoch [60/250], Train Loss: 0.1150, Val Loss: 0.0920, Time: 0.89s\n",
            "Epoch [61/250], Train Loss: 0.1181, Val Loss: 0.0962, Time: 0.89s\n",
            "Epoch [62/250], Train Loss: 0.1179, Val Loss: 0.1122, Time: 0.88s\n",
            "Epoch [63/250], Train Loss: 0.1154, Val Loss: 0.0952, Time: 0.90s\n",
            "Epoch [64/250], Train Loss: 0.1135, Val Loss: 0.0883, Time: 0.87s\n",
            "Epoch [65/250], Train Loss: 0.1182, Val Loss: 0.0739, Time: 0.85s\n",
            "Epoch [66/250], Train Loss: 0.1168, Val Loss: 0.0879, Time: 0.85s\n",
            "Epoch [67/250], Train Loss: 0.1248, Val Loss: 0.0959, Time: 0.85s\n",
            "Epoch [68/250], Train Loss: 0.1120, Val Loss: 0.0768, Time: 0.85s\n",
            "Epoch [69/250], Train Loss: 0.1096, Val Loss: 0.0755, Time: 0.86s\n",
            "Epoch [70/250], Train Loss: 0.1258, Val Loss: 0.0790, Time: 0.86s\n",
            "Epoch [71/250], Train Loss: 0.1031, Val Loss: 0.0625, Time: 0.85s\n",
            "Epoch [72/250], Train Loss: 0.0977, Val Loss: 0.0690, Time: 0.85s\n",
            "Epoch [73/250], Train Loss: 0.1082, Val Loss: 0.0669, Time: 0.86s\n",
            "Epoch [74/250], Train Loss: 0.1050, Val Loss: 0.0659, Time: 0.85s\n",
            "Epoch [75/250], Train Loss: 0.1131, Val Loss: 0.0670, Time: 0.87s\n",
            "Epoch [76/250], Train Loss: 0.1098, Val Loss: 0.0646, Time: 0.89s\n",
            "Epoch [77/250], Train Loss: 0.0987, Val Loss: 0.0650, Time: 0.89s\n",
            "Epoch [78/250], Train Loss: 0.1089, Val Loss: 0.0787, Time: 0.88s\n",
            "Epoch [79/250], Train Loss: 0.1165, Val Loss: 0.0837, Time: 0.89s\n",
            "Epoch [80/250], Train Loss: 0.0973, Val Loss: 0.0967, Time: 1.05s\n",
            "Epoch [81/250], Train Loss: 0.1013, Val Loss: 0.0704, Time: 0.85s\n",
            "Epoch [82/250], Train Loss: 0.1055, Val Loss: 0.0667, Time: 0.85s\n",
            "Epoch [83/250], Train Loss: 0.1007, Val Loss: 0.0569, Time: 0.85s\n",
            "Epoch [84/250], Train Loss: 0.1141, Val Loss: 0.0644, Time: 0.85s\n",
            "Epoch [85/250], Train Loss: 0.1026, Val Loss: 0.0561, Time: 0.85s\n",
            "Epoch [86/250], Train Loss: 0.0915, Val Loss: 0.0597, Time: 0.85s\n",
            "Epoch [87/250], Train Loss: 0.0913, Val Loss: 0.0632, Time: 0.85s\n",
            "Epoch [88/250], Train Loss: 0.1181, Val Loss: 0.0616, Time: 0.85s\n",
            "Epoch [89/250], Train Loss: 0.0933, Val Loss: 0.0615, Time: 0.86s\n",
            "Epoch [90/250], Train Loss: 0.0948, Val Loss: 0.0563, Time: 0.85s\n",
            "Epoch [91/250], Train Loss: 0.0991, Val Loss: 0.0580, Time: 0.89s\n",
            "Epoch [92/250], Train Loss: 0.0900, Val Loss: 0.0714, Time: 0.88s\n",
            "Epoch [93/250], Train Loss: 0.0974, Val Loss: 0.0854, Time: 0.88s\n",
            "Epoch [94/250], Train Loss: 0.0957, Val Loss: 0.0761, Time: 0.89s\n",
            "Epoch [95/250], Train Loss: 0.1036, Val Loss: 0.0761, Time: 0.88s\n",
            "Epoch [96/250], Train Loss: 0.0931, Val Loss: 0.0676, Time: 0.85s\n",
            "Epoch [97/250], Train Loss: 0.0918, Val Loss: 0.0561, Time: 0.85s\n",
            "Epoch [98/250], Train Loss: 0.0925, Val Loss: 0.0503, Time: 0.85s\n",
            "Epoch [99/250], Train Loss: 0.0826, Val Loss: 0.0438, Time: 0.85s\n",
            "Epoch [100/250], Train Loss: 0.0918, Val Loss: 0.0539, Time: 0.85s\n",
            "Epoch [101/250], Train Loss: 0.0857, Val Loss: 0.0516, Time: 0.86s\n",
            "Epoch [102/250], Train Loss: 0.0788, Val Loss: 0.0614, Time: 0.85s\n",
            "Epoch [103/250], Train Loss: 0.0804, Val Loss: 0.0578, Time: 0.85s\n",
            "Epoch [104/250], Train Loss: 0.0854, Val Loss: 0.0539, Time: 0.85s\n",
            "Epoch [105/250], Train Loss: 0.0936, Val Loss: 0.0467, Time: 0.85s\n",
            "Epoch [106/250], Train Loss: 0.0855, Val Loss: 0.0554, Time: 0.84s\n",
            "Epoch [107/250], Train Loss: 0.0815, Val Loss: 0.0571, Time: 0.87s\n",
            "Epoch [108/250], Train Loss: 0.0988, Val Loss: 0.0554, Time: 0.89s\n",
            "Epoch [109/250], Train Loss: 0.0807, Val Loss: 0.0443, Time: 0.88s\n",
            "Epoch [110/250], Train Loss: 0.0847, Val Loss: 0.0544, Time: 0.89s\n",
            "Epoch [111/250], Train Loss: 0.0896, Val Loss: 0.0542, Time: 0.87s\n",
            "Epoch [112/250], Train Loss: 0.0820, Val Loss: 0.0585, Time: 0.85s\n",
            "Epoch [113/250], Train Loss: 0.0917, Val Loss: 0.0531, Time: 0.85s\n",
            "Epoch [114/250], Train Loss: 0.0988, Val Loss: 0.0497, Time: 0.85s\n",
            "Epoch [115/250], Train Loss: 0.0892, Val Loss: 0.0614, Time: 0.85s\n",
            "Epoch [116/250], Train Loss: 0.0898, Val Loss: 0.0522, Time: 0.85s\n",
            "Epoch [117/250], Train Loss: 0.0839, Val Loss: 0.0522, Time: 0.85s\n",
            "Epoch [118/250], Train Loss: 0.0762, Val Loss: 0.0571, Time: 0.86s\n",
            "Epoch [119/250], Train Loss: 0.0797, Val Loss: 0.0535, Time: 0.86s\n",
            "Epoch [120/250], Train Loss: 0.0828, Val Loss: 0.0472, Time: 0.85s\n",
            "Epoch [121/250], Train Loss: 0.0775, Val Loss: 0.0531, Time: 0.85s\n",
            "Epoch [122/250], Train Loss: 0.0885, Val Loss: 0.0478, Time: 0.85s\n",
            "Epoch [123/250], Train Loss: 0.0796, Val Loss: 0.0483, Time: 0.88s\n",
            "Epoch [124/250], Train Loss: 0.0831, Val Loss: 0.0420, Time: 0.90s\n",
            "Epoch [125/250], Train Loss: 0.0872, Val Loss: 0.0422, Time: 0.89s\n",
            "Epoch [126/250], Train Loss: 0.1033, Val Loss: 0.0483, Time: 0.90s\n",
            "Epoch [127/250], Train Loss: 0.0914, Val Loss: 0.0526, Time: 0.86s\n",
            "Epoch [128/250], Train Loss: 0.0879, Val Loss: 0.0529, Time: 0.85s\n",
            "Epoch [129/250], Train Loss: 0.0918, Val Loss: 0.0641, Time: 0.85s\n",
            "Epoch [130/250], Train Loss: 0.0928, Val Loss: 0.0439, Time: 0.85s\n",
            "Epoch [131/250], Train Loss: 0.0899, Val Loss: 0.0451, Time: 0.85s\n",
            "Epoch [132/250], Train Loss: 0.0831, Val Loss: 0.0459, Time: 0.85s\n",
            "Epoch [133/250], Train Loss: 0.0955, Val Loss: 0.0445, Time: 0.85s\n",
            "Epoch [134/250], Train Loss: 0.0839, Val Loss: 0.0511, Time: 0.85s\n",
            "Epoch [135/250], Train Loss: 0.0800, Val Loss: 0.0560, Time: 0.86s\n",
            "Epoch [136/250], Train Loss: 0.0781, Val Loss: 0.0411, Time: 0.85s\n",
            "Epoch [137/250], Train Loss: 0.0934, Val Loss: 0.0479, Time: 0.85s\n",
            "Epoch [138/250], Train Loss: 0.0854, Val Loss: 0.0728, Time: 0.86s\n",
            "Epoch [139/250], Train Loss: 0.0830, Val Loss: 0.0514, Time: 0.88s\n",
            "Epoch [140/250], Train Loss: 0.0860, Val Loss: 0.0462, Time: 0.89s\n",
            "Epoch [141/250], Train Loss: 0.0794, Val Loss: 0.0622, Time: 0.89s\n",
            "Epoch [142/250], Train Loss: 0.0905, Val Loss: 0.0471, Time: 0.90s\n",
            "Epoch [143/250], Train Loss: 0.0986, Val Loss: 0.0454, Time: 0.86s\n",
            "Epoch [144/250], Train Loss: 0.0861, Val Loss: 0.0584, Time: 0.86s\n",
            "Epoch [145/250], Train Loss: 0.1019, Val Loss: 0.0575, Time: 0.86s\n",
            "Epoch [146/250], Train Loss: 0.1097, Val Loss: 0.0603, Time: 0.86s\n",
            "Epoch [147/250], Train Loss: 0.0865, Val Loss: 0.0552, Time: 0.85s\n",
            "Epoch [148/250], Train Loss: 0.0899, Val Loss: 0.0614, Time: 0.86s\n",
            "Epoch [149/250], Train Loss: 0.0877, Val Loss: 0.0497, Time: 0.85s\n",
            "Epoch [150/250], Train Loss: 0.0861, Val Loss: 0.0516, Time: 0.86s\n",
            "Epoch [151/250], Train Loss: 0.0789, Val Loss: 0.0503, Time: 0.86s\n",
            "Epoch [152/250], Train Loss: 0.0772, Val Loss: 0.0448, Time: 0.86s\n",
            "Epoch [153/250], Train Loss: 0.0844, Val Loss: 0.0468, Time: 0.85s\n",
            "Epoch [154/250], Train Loss: 0.0795, Val Loss: 0.0464, Time: 0.88s\n",
            "Epoch [155/250], Train Loss: 0.0818, Val Loss: 0.0447, Time: 0.89s\n",
            "Epoch [156/250], Train Loss: 0.0818, Val Loss: 0.0383, Time: 0.90s\n",
            "Epoch [157/250], Train Loss: 0.0753, Val Loss: 0.0439, Time: 0.90s\n",
            "Epoch [158/250], Train Loss: 0.0882, Val Loss: 0.0524, Time: 0.88s\n",
            "Epoch [159/250], Train Loss: 0.0803, Val Loss: 0.0563, Time: 0.86s\n",
            "Epoch [160/250], Train Loss: 0.0784, Val Loss: 0.0421, Time: 0.85s\n",
            "Epoch [161/250], Train Loss: 0.0759, Val Loss: 0.0430, Time: 0.85s\n",
            "Epoch [162/250], Train Loss: 0.0725, Val Loss: 0.0455, Time: 0.85s\n",
            "Epoch [163/250], Train Loss: 0.0845, Val Loss: 0.0446, Time: 0.86s\n",
            "Epoch [164/250], Train Loss: 0.0835, Val Loss: 0.0496, Time: 0.85s\n",
            "Epoch [165/250], Train Loss: 0.0804, Val Loss: 0.0425, Time: 0.85s\n",
            "Epoch [166/250], Train Loss: 0.0718, Val Loss: 0.0493, Time: 0.85s\n",
            "Epoch [167/250], Train Loss: 0.0889, Val Loss: 0.0437, Time: 0.85s\n",
            "Epoch [168/250], Train Loss: 0.0793, Val Loss: 0.0433, Time: 0.85s\n",
            "Epoch [169/250], Train Loss: 0.0772, Val Loss: 0.0461, Time: 0.85s\n",
            "Epoch [170/250], Train Loss: 0.0907, Val Loss: 0.0599, Time: 0.88s\n",
            "Epoch [171/250], Train Loss: 0.0847, Val Loss: 0.0565, Time: 0.88s\n",
            "Epoch [172/250], Train Loss: 0.0793, Val Loss: 0.0603, Time: 0.89s\n",
            "Epoch [173/250], Train Loss: 0.0791, Val Loss: 0.0496, Time: 0.89s\n",
            "Epoch [174/250], Train Loss: 0.0773, Val Loss: 0.0522, Time: 0.87s\n",
            "Epoch [175/250], Train Loss: 0.0688, Val Loss: 0.0531, Time: 0.85s\n",
            "Epoch [176/250], Train Loss: 0.0742, Val Loss: 0.0575, Time: 0.85s\n",
            "Epoch [177/250], Train Loss: 0.0667, Val Loss: 0.0600, Time: 0.86s\n",
            "Epoch [178/250], Train Loss: 0.0765, Val Loss: 0.0525, Time: 0.85s\n",
            "Epoch [179/250], Train Loss: 0.0684, Val Loss: 0.0405, Time: 0.86s\n",
            "Epoch [180/250], Train Loss: 0.0632, Val Loss: 0.0445, Time: 0.85s\n",
            "Epoch [181/250], Train Loss: 0.0723, Val Loss: 0.0456, Time: 0.85s\n",
            "Epoch [182/250], Train Loss: 0.0692, Val Loss: 0.0426, Time: 0.85s\n",
            "Epoch [183/250], Train Loss: 0.0746, Val Loss: 0.0384, Time: 0.85s\n",
            "Epoch [184/250], Train Loss: 0.0824, Val Loss: 0.0404, Time: 0.85s\n",
            "Epoch [185/250], Train Loss: 0.0677, Val Loss: 0.0386, Time: 0.86s\n",
            "Epoch [186/250], Train Loss: 0.0690, Val Loss: 0.0449, Time: 0.89s\n",
            "Epoch [187/250], Train Loss: 0.0683, Val Loss: 0.0331, Time: 0.89s\n",
            "Epoch [188/250], Train Loss: 0.0701, Val Loss: 0.0333, Time: 0.89s\n",
            "Epoch [189/250], Train Loss: 0.0677, Val Loss: 0.0345, Time: 0.89s\n",
            "Epoch [190/250], Train Loss: 0.0745, Val Loss: 0.0361, Time: 0.88s\n",
            "Epoch [191/250], Train Loss: 0.0628, Val Loss: 0.0420, Time: 0.85s\n",
            "Epoch [192/250], Train Loss: 0.0719, Val Loss: 0.0333, Time: 0.85s\n",
            "Epoch [193/250], Train Loss: 0.0793, Val Loss: 0.0376, Time: 0.85s\n",
            "Epoch [194/250], Train Loss: 0.0629, Val Loss: 0.0426, Time: 0.85s\n",
            "Epoch [195/250], Train Loss: 0.0700, Val Loss: 0.0401, Time: 0.85s\n",
            "Epoch [196/250], Train Loss: 0.0661, Val Loss: 0.0459, Time: 0.85s\n",
            "Epoch [197/250], Train Loss: 0.0688, Val Loss: 0.0460, Time: 0.86s\n",
            "Epoch [198/250], Train Loss: 0.0709, Val Loss: 0.0400, Time: 0.85s\n",
            "Epoch [199/250], Train Loss: 0.0760, Val Loss: 0.0394, Time: 0.85s\n",
            "Epoch [200/250], Train Loss: 0.0862, Val Loss: 0.0402, Time: 0.85s\n",
            "Epoch [201/250], Train Loss: 0.0760, Val Loss: 0.0497, Time: 0.87s\n",
            "Epoch [202/250], Train Loss: 0.0654, Val Loss: 0.0503, Time: 1.01s\n",
            "Epoch [203/250], Train Loss: 0.0634, Val Loss: 0.0383, Time: 0.89s\n",
            "Epoch [204/250], Train Loss: 0.0653, Val Loss: 0.0371, Time: 0.89s\n",
            "Epoch [205/250], Train Loss: 0.0585, Val Loss: 0.0405, Time: 0.89s\n",
            "Epoch [206/250], Train Loss: 0.0873, Val Loss: 0.0423, Time: 0.88s\n",
            "Epoch [207/250], Train Loss: 0.0650, Val Loss: 0.0325, Time: 0.86s\n",
            "Epoch [208/250], Train Loss: 0.0603, Val Loss: 0.0543, Time: 0.85s\n",
            "Epoch [209/250], Train Loss: 0.0741, Val Loss: 0.0642, Time: 0.85s\n",
            "Epoch [210/250], Train Loss: 0.0673, Val Loss: 0.0571, Time: 0.85s\n",
            "Epoch [211/250], Train Loss: 0.0693, Val Loss: 0.0539, Time: 0.85s\n",
            "Epoch [212/250], Train Loss: 0.0692, Val Loss: 0.0376, Time: 0.86s\n",
            "Epoch [213/250], Train Loss: 0.0638, Val Loss: 0.0377, Time: 0.85s\n",
            "Epoch [214/250], Train Loss: 0.0671, Val Loss: 0.0398, Time: 0.85s\n",
            "Epoch [215/250], Train Loss: 0.0675, Val Loss: 0.0346, Time: 0.86s\n",
            "Epoch [216/250], Train Loss: 0.0637, Val Loss: 0.0320, Time: 0.85s\n",
            "Epoch [217/250], Train Loss: 0.0677, Val Loss: 0.0360, Time: 0.86s\n",
            "Epoch [218/250], Train Loss: 0.0706, Val Loss: 0.0330, Time: 0.89s\n",
            "Epoch [219/250], Train Loss: 0.0585, Val Loss: 0.0365, Time: 0.89s\n",
            "Epoch [220/250], Train Loss: 0.0644, Val Loss: 0.0408, Time: 0.89s\n",
            "Epoch [221/250], Train Loss: 0.0619, Val Loss: 0.0338, Time: 0.89s\n",
            "Epoch [222/250], Train Loss: 0.0602, Val Loss: 0.0325, Time: 0.86s\n",
            "Epoch [223/250], Train Loss: 0.0754, Val Loss: 0.0345, Time: 0.85s\n",
            "Epoch [224/250], Train Loss: 0.0653, Val Loss: 0.0441, Time: 0.86s\n",
            "Epoch [225/250], Train Loss: 0.0781, Val Loss: 0.0377, Time: 0.86s\n",
            "Epoch [226/250], Train Loss: 0.0925, Val Loss: 0.0553, Time: 0.85s\n",
            "Epoch [227/250], Train Loss: 0.0661, Val Loss: 0.0649, Time: 0.85s\n",
            "Epoch [228/250], Train Loss: 0.0641, Val Loss: 0.0551, Time: 0.85s\n",
            "Epoch [229/250], Train Loss: 0.0766, Val Loss: 0.0527, Time: 0.85s\n",
            "Epoch [230/250], Train Loss: 0.0694, Val Loss: 0.0526, Time: 0.86s\n",
            "Epoch [231/250], Train Loss: 0.0687, Val Loss: 0.0589, Time: 0.86s\n",
            "Epoch [232/250], Train Loss: 0.0762, Val Loss: 0.0415, Time: 0.85s\n",
            "Epoch [233/250], Train Loss: 0.0563, Val Loss: 0.0472, Time: 0.87s\n",
            "Epoch [234/250], Train Loss: 0.0605, Val Loss: 0.0454, Time: 0.89s\n",
            "Epoch [235/250], Train Loss: 0.0566, Val Loss: 0.0445, Time: 0.89s\n",
            "Epoch [236/250], Train Loss: 0.0592, Val Loss: 0.0326, Time: 0.88s\n",
            "Epoch [237/250], Train Loss: 0.0515, Val Loss: 0.0319, Time: 0.88s\n",
            "Epoch [238/250], Train Loss: 0.0677, Val Loss: 0.0339, Time: 0.85s\n",
            "Epoch [239/250], Train Loss: 0.0573, Val Loss: 0.0317, Time: 0.85s\n",
            "Epoch [240/250], Train Loss: 0.0563, Val Loss: 0.0296, Time: 0.85s\n",
            "Epoch [241/250], Train Loss: 0.0596, Val Loss: 0.0409, Time: 0.86s\n",
            "Epoch [242/250], Train Loss: 0.0597, Val Loss: 0.0389, Time: 0.85s\n",
            "Epoch [243/250], Train Loss: 0.0665, Val Loss: 0.0385, Time: 0.86s\n",
            "Epoch [244/250], Train Loss: 0.0503, Val Loss: 0.0417, Time: 0.85s\n",
            "Epoch [245/250], Train Loss: 0.0578, Val Loss: 0.0493, Time: 0.86s\n",
            "Epoch [246/250], Train Loss: 0.0549, Val Loss: 0.0324, Time: 0.86s\n",
            "Epoch [247/250], Train Loss: 0.0628, Val Loss: 0.0315, Time: 0.87s\n",
            "Epoch [248/250], Train Loss: 0.0723, Val Loss: 0.0381, Time: 0.86s\n",
            "Epoch [249/250], Train Loss: 0.0590, Val Loss: 0.0325, Time: 0.88s\n",
            "Epoch [250/250], Train Loss: 0.0556, Val Loss: 0.0367, Time: 0.89s\n",
            "Training finished.\n",
            "Model weights saved to /content/drive/My Drive/polygon_unet_final.pth\n"
          ]
        },
        {
          "output_type": "display_data",
          "data": {
            "text/plain": [
              "<IPython.core.display.HTML object>"
            ],
            "text/html": []
          },
          "metadata": {}
        },
        {
          "output_type": "display_data",
          "data": {
            "text/plain": [
              "<IPython.core.display.HTML object>"
            ],
            "text/html": [
              "<br>    <style><br>        .wandb-row {<br>            display: flex;<br>            flex-direction: row;<br>            flex-wrap: wrap;<br>            justify-content: flex-start;<br>            width: 100%;<br>        }<br>        .wandb-col {<br>            display: flex;<br>            flex-direction: column;<br>            flex-basis: 100%;<br>            flex: 1;<br>            padding: 10px;<br>        }<br>    </style><br><div class=\"wandb-row\"><div class=\"wandb-col\"><h3>Run history:</h3><br/><table class=\"wandb\"><tr><td>epoch</td><td>▁▁▁▁▁▂▂▂▂▂▂▂▃▃▃▄▄▄▄▄▅▅▆▆▆▆▇▇▇▇▇▇▇▇▇▇▇███</td></tr><tr><td>epoch_time</td><td>█▁▂▆▆▅█▃▅▇▄▂▂▂▂▆▇▂▃▂▂▇▄▃▃▂▄▂▂▂▆▂▇▅▂▃▃▃▂▃</td></tr><tr><td>train_loss</td><td>█▅▄▃▃▂▂▂▁▁▂▂▁▁▁▁▁▁▁▁▁▁▁▁▁▁▁▁▁▁▁▁▁▁▁▁▁▁▁▁</td></tr><tr><td>val_loss</td><td>█▃▂▂▂▂▂▁▁▁▁▁▁▁▁▁▁▁▁▁▁▁▁▁▁▁▁▁▁▁▁▁▁▁▁▁▁▁▁▁</td></tr></table><br/></div><div class=\"wandb-col\"><h3>Run summary:</h3><br/><table class=\"wandb\"><tr><td>epoch</td><td>250</td></tr><tr><td>epoch_time</td><td>0.88741</td></tr><tr><td>train_loss</td><td>0.05562</td></tr><tr><td>val_loss</td><td>0.03669</td></tr></table><br/></div></div>"
            ]
          },
          "metadata": {}
        },
        {
          "output_type": "display_data",
          "data": {
            "text/plain": [
              "<IPython.core.display.HTML object>"
            ],
            "text/html": [
              " View run <strong style=\"color:#cdcd00\">lunar-terrain-3</strong> at: <a href='https://wandb.ai/atul-joshi1206-graphic-era-hill-university/Ayna-ML-Polygon-Coloring/runs/6nx6go3y' target=\"_blank\">https://wandb.ai/atul-joshi1206-graphic-era-hill-university/Ayna-ML-Polygon-Coloring/runs/6nx6go3y</a><br> View project at: <a href='https://wandb.ai/atul-joshi1206-graphic-era-hill-university/Ayna-ML-Polygon-Coloring' target=\"_blank\">https://wandb.ai/atul-joshi1206-graphic-era-hill-university/Ayna-ML-Polygon-Coloring</a><br>Synced 5 W&B file(s), 3000 media file(s), 0 artifact file(s) and 0 other file(s)"
            ]
          },
          "metadata": {}
        },
        {
          "output_type": "display_data",
          "data": {
            "text/plain": [
              "<IPython.core.display.HTML object>"
            ],
            "text/html": [
              "Find logs at: <code>./wandb/run-20250804_104617-6nx6go3y/logs</code>"
            ]
          },
          "metadata": {}
        },
        {
          "output_type": "stream",
          "name": "stdout",
          "text": [
            "Wandb run finished.\n"
          ]
        }
      ]
    },
    {
      "cell_type": "markdown",
      "metadata": {
        "id": "3c8eab85"
      },
      "source": [
        "## Inference and report\n",
        "\n",
        "### Subtask:\n",
        "Create an \"Inference\" section, load the saved model, write a prediction function to visualize results for validation examples, and generate the text for a README.md report.\n"
      ]
    },
    {
      "cell_type": "code",
      "metadata": {
        "colab": {
          "base_uri": "https://localhost:8080/"
        },
        "id": "1943dd91",
        "outputId": "74f003c0-81c9-44be-acb2-7dd6024088c9"
      },
      "source": [
        "# %% [markdown]\n",
        "# ## Inference\n",
        "\n",
        "# %%\n",
        "import torch\n",
        "import matplotlib.pyplot as plt\n",
        "from PIL import Image\n",
        "import numpy as np\n",
        "\n",
        "# Define the device (same as training)\n",
        "device = torch.device(\"cuda\" if torch.cuda.is_available() else \"cpu\")\n",
        "print(f\"Using device: {device}\")\n",
        "\n",
        "# Instantiate the model with the correct color_vector_dim\n",
        "# Assuming all_colors_list is still in the scope from the previous training cell\n",
        "# If not, you would need to reload it from data.json files\n",
        "if 'all_colors_list' not in locals():\n",
        "    print(\"Loading all_colors_list from data.json...\")\n",
        "    train_data_path = '/content/dataset/training/data.json'\n",
        "    val_data_path = '/content/dataset/validation/data.json'\n",
        "    with open(train_data_path, 'r') as f:\n",
        "        train_data = json.load(f)\n",
        "    with open(val_data_path, 'r') as f:\n",
        "        val_data = json.load(f)\n",
        "    all_colors_set = set([item['colour'] for item in train_data] + [item['colour'] for item in val_data])\n",
        "    all_colors_list = list(all_colors_set)\n",
        "\n",
        "color_vector_dim = len(all_colors_list)\n",
        "model = ConditionalUNet(color_vector_dim=color_vector_dim).to(device)\n",
        "\n",
        "# Load the saved model weights\n",
        "model_save_path = '/content/drive/My Drive/polygon_unet_final.pth'\n",
        "try:\n",
        "    model.load_state_dict(torch.load(model_save_path, map_location=device))\n",
        "    print(f\"Model weights loaded successfully from {model_save_path}\")\n",
        "except FileNotFoundError:\n",
        "    print(f\"Error: Model weights file not found at {model_save_path}. Please ensure the training completed successfully.\")\n",
        "except Exception as e:\n",
        "    print(f\"An error occurred while loading model weights: {e}\")\n",
        "\n",
        "model.eval() # Set model to evaluation mode"
      ],
      "execution_count": 28,
      "outputs": [
        {
          "output_type": "stream",
          "name": "stdout",
          "text": [
            "Using device: cuda\n",
            "Model weights loaded successfully from /content/drive/My Drive/polygon_unet_final.pth\n"
          ]
        },
        {
          "output_type": "execute_result",
          "data": {
            "text/plain": [
              "ConditionalUNet(\n",
              "  (encoder): ModuleList(\n",
              "    (0): Sequential(\n",
              "      (0): Conv2d(3, 64, kernel_size=(3, 3), stride=(1, 1), padding=(1, 1), bias=False)\n",
              "      (1): BatchNorm2d(64, eps=1e-05, momentum=0.1, affine=True, track_running_stats=True)\n",
              "      (2): ReLU(inplace=True)\n",
              "      (3): Conv2d(64, 64, kernel_size=(3, 3), stride=(1, 1), padding=(1, 1), bias=False)\n",
              "      (4): BatchNorm2d(64, eps=1e-05, momentum=0.1, affine=True, track_running_stats=True)\n",
              "      (5): ReLU(inplace=True)\n",
              "    )\n",
              "    (1): Sequential(\n",
              "      (0): Conv2d(64, 128, kernel_size=(3, 3), stride=(1, 1), padding=(1, 1), bias=False)\n",
              "      (1): BatchNorm2d(128, eps=1e-05, momentum=0.1, affine=True, track_running_stats=True)\n",
              "      (2): ReLU(inplace=True)\n",
              "      (3): Conv2d(128, 128, kernel_size=(3, 3), stride=(1, 1), padding=(1, 1), bias=False)\n",
              "      (4): BatchNorm2d(128, eps=1e-05, momentum=0.1, affine=True, track_running_stats=True)\n",
              "      (5): ReLU(inplace=True)\n",
              "    )\n",
              "    (2): Sequential(\n",
              "      (0): Conv2d(128, 256, kernel_size=(3, 3), stride=(1, 1), padding=(1, 1), bias=False)\n",
              "      (1): BatchNorm2d(256, eps=1e-05, momentum=0.1, affine=True, track_running_stats=True)\n",
              "      (2): ReLU(inplace=True)\n",
              "      (3): Conv2d(256, 256, kernel_size=(3, 3), stride=(1, 1), padding=(1, 1), bias=False)\n",
              "      (4): BatchNorm2d(256, eps=1e-05, momentum=0.1, affine=True, track_running_stats=True)\n",
              "      (5): ReLU(inplace=True)\n",
              "    )\n",
              "    (3): Sequential(\n",
              "      (0): Conv2d(256, 512, kernel_size=(3, 3), stride=(1, 1), padding=(1, 1), bias=False)\n",
              "      (1): BatchNorm2d(512, eps=1e-05, momentum=0.1, affine=True, track_running_stats=True)\n",
              "      (2): ReLU(inplace=True)\n",
              "      (3): Conv2d(512, 512, kernel_size=(3, 3), stride=(1, 1), padding=(1, 1), bias=False)\n",
              "      (4): BatchNorm2d(512, eps=1e-05, momentum=0.1, affine=True, track_running_stats=True)\n",
              "      (5): ReLU(inplace=True)\n",
              "    )\n",
              "  )\n",
              "  (decoder): ModuleList(\n",
              "    (0): ConvTranspose2d(1024, 512, kernel_size=(2, 2), stride=(2, 2))\n",
              "    (1): Sequential(\n",
              "      (0): Conv2d(1024, 512, kernel_size=(3, 3), stride=(1, 1), padding=(1, 1), bias=False)\n",
              "      (1): BatchNorm2d(512, eps=1e-05, momentum=0.1, affine=True, track_running_stats=True)\n",
              "      (2): ReLU(inplace=True)\n",
              "      (3): Conv2d(512, 512, kernel_size=(3, 3), stride=(1, 1), padding=(1, 1), bias=False)\n",
              "      (4): BatchNorm2d(512, eps=1e-05, momentum=0.1, affine=True, track_running_stats=True)\n",
              "      (5): ReLU(inplace=True)\n",
              "    )\n",
              "    (2): ConvTranspose2d(512, 256, kernel_size=(2, 2), stride=(2, 2))\n",
              "    (3): Sequential(\n",
              "      (0): Conv2d(512, 256, kernel_size=(3, 3), stride=(1, 1), padding=(1, 1), bias=False)\n",
              "      (1): BatchNorm2d(256, eps=1e-05, momentum=0.1, affine=True, track_running_stats=True)\n",
              "      (2): ReLU(inplace=True)\n",
              "      (3): Conv2d(256, 256, kernel_size=(3, 3), stride=(1, 1), padding=(1, 1), bias=False)\n",
              "      (4): BatchNorm2d(256, eps=1e-05, momentum=0.1, affine=True, track_running_stats=True)\n",
              "      (5): ReLU(inplace=True)\n",
              "    )\n",
              "    (4): ConvTranspose2d(256, 128, kernel_size=(2, 2), stride=(2, 2))\n",
              "    (5): Sequential(\n",
              "      (0): Conv2d(256, 128, kernel_size=(3, 3), stride=(1, 1), padding=(1, 1), bias=False)\n",
              "      (1): BatchNorm2d(128, eps=1e-05, momentum=0.1, affine=True, track_running_stats=True)\n",
              "      (2): ReLU(inplace=True)\n",
              "      (3): Conv2d(128, 128, kernel_size=(3, 3), stride=(1, 1), padding=(1, 1), bias=False)\n",
              "      (4): BatchNorm2d(128, eps=1e-05, momentum=0.1, affine=True, track_running_stats=True)\n",
              "      (5): ReLU(inplace=True)\n",
              "    )\n",
              "    (6): ConvTranspose2d(128, 64, kernel_size=(2, 2), stride=(2, 2))\n",
              "    (7): Sequential(\n",
              "      (0): Conv2d(128, 64, kernel_size=(3, 3), stride=(1, 1), padding=(1, 1), bias=False)\n",
              "      (1): BatchNorm2d(64, eps=1e-05, momentum=0.1, affine=True, track_running_stats=True)\n",
              "      (2): ReLU(inplace=True)\n",
              "      (3): Conv2d(64, 64, kernel_size=(3, 3), stride=(1, 1), padding=(1, 1), bias=False)\n",
              "      (4): BatchNorm2d(64, eps=1e-05, momentum=0.1, affine=True, track_running_stats=True)\n",
              "      (5): ReLU(inplace=True)\n",
              "    )\n",
              "  )\n",
              "  (pool): MaxPool2d(kernel_size=2, stride=2, padding=0, dilation=1, ceil_mode=False)\n",
              "  (bottleneck): Sequential(\n",
              "    (0): Conv2d(512, 1024, kernel_size=(3, 3), stride=(1, 1), padding=(1, 1), bias=False)\n",
              "    (1): BatchNorm2d(1024, eps=1e-05, momentum=0.1, affine=True, track_running_stats=True)\n",
              "    (2): ReLU(inplace=True)\n",
              "    (3): Conv2d(1024, 1024, kernel_size=(3, 3), stride=(1, 1), padding=(1, 1), bias=False)\n",
              "    (4): BatchNorm2d(1024, eps=1e-05, momentum=0.1, affine=True, track_running_stats=True)\n",
              "    (5): ReLU(inplace=True)\n",
              "  )\n",
              "  (color_linear): Linear(in_features=8, out_features=1024, bias=True)\n",
              "  (final_conv): Conv2d(64, 3, kernel_size=(1, 1), stride=(1, 1))\n",
              ")"
            ]
          },
          "metadata": {},
          "execution_count": 28
        }
      ]
    },
    {
      "cell_type": "markdown",
      "metadata": {
        "id": "2dbc9a9b"
      },
      "source": [
        "**Reasoning**:\n",
        "Define the prediction and visualization function and then select and visualize results for 3 validation examples.\n",
        "\n"
      ]
    },
    {
      "cell_type": "code",
      "metadata": {
        "colab": {
          "base_uri": "https://localhost:8080/",
          "height": 1000
        },
        "id": "f4756d0e",
        "outputId": "0031ed6d-4840-49cb-836c-afa710f57eaa"
      },
      "source": [
        "def denormalize_image(tensor):\n",
        "    \"\"\"Denormalize an image tensor from [-1, 1] to [0, 1].\"\"\"\n",
        "    tensor = tensor * 0.5 + 0.5\n",
        "    tensor = torch.clamp(tensor, 0, 1)\n",
        "    return tensor\n",
        "\n",
        "def predict_and_visualize(model, val_dataset, image_transform, device, example_index):\n",
        "    \"\"\"\n",
        "    Predicts the colored polygon for a given validation example and visualizes\n",
        "    Input, Ground Truth, and Generated Output.\n",
        "    \"\"\"\n",
        "    model.eval()\n",
        "    with torch.no_grad():\n",
        "        # Get the data for the example index\n",
        "        input_image_tensor, color_onehot_tensor, ground_truth_image_tensor = val_dataset[example_index]\n",
        "\n",
        "        # Get the original image paths and color name for display purposes\n",
        "        item_data = val_dataset.data[example_index]\n",
        "        input_img_path_orig = os.path.join(val_dataset.data_dir, 'inputs', item_data['input_polygon'])\n",
        "        output_img_path_orig = os.path.join(val_dataset.data_dir, 'outputs', item_data['output_image'])\n",
        "        color_name = item_data['colour']\n",
        "\n",
        "        # Move tensors to device and add batch dimension\n",
        "        input_image_tensor = input_image_tensor.unsqueeze(0).to(device)\n",
        "        color_onehot_tensor = color_onehot_tensor.unsqueeze(0).to(device)\n",
        "\n",
        "        # Get the model prediction\n",
        "        generated_output_tensor = model(input_image_tensor, color_onehot_tensor).squeeze(0) # Remove batch dimension\n",
        "\n",
        "        # Denormalize images for visualization\n",
        "        input_image_display = denormalize_image(input_image_tensor.squeeze(0).cpu()).permute(1, 2, 0) # C, H, W -> H, W, C\n",
        "        ground_truth_image_display = denormalize_image(ground_truth_image_tensor.cpu()).permute(1, 2, 0) # C, H, W -> H, W, C\n",
        "        generated_output_display = denormalize_image(generated_output_tensor.cpu()).permute(1, 2, 0) # C, H, W -> H, W, C\n",
        "\n",
        "        # Plot the images\n",
        "        fig, axes = plt.subplots(1, 3, figsize=(15, 5))\n",
        "        axes[0].imshow(input_image_display)\n",
        "        axes[0].set_title('Input Image')\n",
        "        axes[0].axis('off')\n",
        "\n",
        "        axes[1].imshow(ground_truth_image_display)\n",
        "        axes[1].set_title('Ground Truth')\n",
        "        axes[1].axis('off')\n",
        "\n",
        "        axes[2].imshow(generated_output_display)\n",
        "        axes[2].set_title(f'Generated Output ({color_name})')\n",
        "        axes[2].axis('off')\n",
        "\n",
        "        plt.tight_layout()\n",
        "        plt.show()\n",
        "        print(f\"Visualizing example {example_index} with color: {color_name}\")\n",
        "\n",
        "\n",
        "# Select and visualize 3 examples from the validation dataset\n",
        "print(\"\\nVisualizing 3 validation examples:\")\n",
        "num_examples_to_visualize = 3\n",
        "for i in range(num_examples_to_visualize):\n",
        "    # Select random indices or specific indices\n",
        "    example_index = i # Or np.random.randint(0, len(val_dataset))\n",
        "    predict_and_visualize(model, val_dataset, image_transform, device, example_index)\n"
      ],
      "execution_count": 29,
      "outputs": [
        {
          "output_type": "stream",
          "name": "stdout",
          "text": [
            "\n",
            "Visualizing 3 validation examples:\n"
          ]
        },
        {
          "output_type": "display_data",
          "data": {
            "text/plain": [
              "<Figure size 1500x500 with 3 Axes>"
            ],
            "image/png": "[encoded data removed]"
          },
          "metadata": {}
        },
        {
          "output_type": "stream",
          "name": "stdout",
          "text": [
            "Visualizing example 0 with color: yellow\n"
          ]
        },
        {
          "output_type": "display_data",
          "data": {
            "text/plain": [
              "<Figure size 1500x500 with 3 Axes>"
            ],
            "image/png": "[encoded data removed]"
          },
          "metadata": {}
        },
        {
          "output_type": "stream",
          "name": "stdout",
          "text": [
            "Visualizing example 1 with color: green\n"
          ]
        },
        {
          "output_type": "display_data",
          "data": {
            "text/plain": [
              "<Figure size 1500x500 with 3 Axes>"
            ],
            "image/png": "[encoded data removed]"
          },
          "metadata": {}
        },
        {
          "output_type": "stream",
          "name": "stdout",
          "text": [
            "Visualizing example 2 with color: blue\n"
          ]
        }
      ]
    },
    {
      "cell_type": "code",
      "metadata": {
        "colab": {
          "base_uri": "https://localhost:8080/"
        },
        "id": "f9994664",
        "outputId": "c142cf78-a5df-4746-f4eb-f4f63e30b44b"
      },
      "source": [
        "readme_content = \"\"\"# Ayna-ML-Polygon-Coloring\n",
        "\n",
        "## Project Overview\n",
        "\n",
        "This project implements a Conditional UNet model in PyTorch to color polygons based on an input outline image and a specified color. The model learns to fill the polygon shape with the target color while preserving the shape's structure. This task is a form of image-to-image translation where the output is conditioned on an additional input (the desired color), making the Conditional UNet a suitable architecture.\n",
        "\n",
        "## Hyperparameters\n",
        "\n",
        "The following key hyperparameters were used during the final training phase:\n",
        "\n",
        "*   **Number of Epochs:** 250. Initially, the model was trained for 75 epochs as per the task requirements. However, preliminary results showed limitations in color accuracy and edge sharpness. Based on these observations, the training was extended to 150 epochs, and then further to 250 epochs to allow for better convergence and refinement of the generated images.\n",
        "*   **Batch Size:** 16. A batch size of 16 was used for both the training and validation DataLoaders. This size was chosen as a balance between utilizing GPU memory effectively and providing a reasonable number of samples for gradient updates during training.\n",
        "*   **Learning Rate:** 0.0002. This learning rate was used with the Adam optimizer. It was selected as a common starting point for training deep learning models and proved effective in allowing the loss to decrease steadily without significant oscillations. No learning rate scheduling was implemented in this project.\n",
        "*   **Optimizer:** Adam. The Adam optimizer was chosen for its adaptive learning rate properties, which generally lead to faster convergence compared to standard SGD. It is a widely used and robust optimizer for various deep learning tasks.\n",
        "*   **Loss Function:** L1Loss (Mean Absolute Error). L1Loss was used as the objective function to minimize the absolute difference between the pixel values of the generated output images and the ground truth images. This loss function is known to be less sensitive to outliers compared to L2 (Mean Squared Error) and often encourages sharper results in image generation tasks.\n",
        "*   **Color Vector Dimension:** 8. This dimension is determined by the total number of unique colors present across the entire dataset (training and validation combined). The dataset contained 8 distinct colors, leading to an 8-dimensional one-hot encoding for each color.\n",
        "\n",
        "*Rationale for Hyperparameter Choices and Evolution:*\n",
        "The initial hyperparameters (75 epochs, batch size 16, learning rate 0.0002, Adam, L1Loss) served as a foundational setup. The primary modification was the significant increase in the number of epochs. This decision was directly driven by the qualitative assessment of the generated images after initial training, which indicated that the model had learned the basic task but needed more iterations to refine the details and achieve better fidelity in color and edges. The chosen batch size and learning rate appeared to facilitate stable training, so they were not modified.\n",
        "\n",
        "## Architecture\n",
        "\n",
        "The model implemented for this task is a **Conditional UNet** architecture, built from scratch using PyTorch. The UNet architecture is particularly well-suited for image-to-image translation tasks due to its symmetric encoder-decoder structure and the incorporation of skip connections. The conditional aspect is introduced to guide the image generation based on the desired color.\n",
        "\n",
        "*   **Encoder:** The encoder pathway consists of a series of convolutional blocks and max-pooling layers. Each convolutional block comprises two sequential layers, each with a 3x3 convolutional layer, Batch Normalization, and a ReLU activation function. The number of feature maps progressively increases with each downsampling step: starting with 3 input channels, the encoder features are 64, 128, 256, and 512. Max pooling with a kernel size of 2 and stride of 2 is applied after each convolutional block to reduce the spatial dimensions.\n",
        "*   **Bottleneck:** The bottleneck is the central part of the UNet, connecting the encoder and decoder. It consists of a convolutional block similar to those in the encoder, transforming the 512 feature maps from the last encoder layer into 1024 feature maps. This layer captures the most compressed and abstract representation of the input image.\n",
        "*   **Color Conditioning:** The color conditioning is a key element of this Conditional UNet. A linear layer `self.color_linear` is used to project the 8-dimensional one-hot color vector into a higher-dimensional embedding that matches the number of feature maps in the bottleneck (1024). This color embedding is then reshaped to have spatial dimensions of 1x1 and added element-wise to the bottleneck feature map. This injection of color information at the bottleneck allows the model to modulate the global features based on the target color before upsampling begins in the decoder. This is a simple yet effective method for conditioning in image generation. No other methods like concatenating the color vector spatially or using Conditional Batch Normalization were explored.\n",
        "*   **Decoder:** The decoder pathway mirrors the encoder, using transposed convolutional layers (`ConvTranspose2d`) to upsample the feature maps and recover the spatial resolution. Each transposed convolutional layer is followed by a convolutional block. The number of feature maps decreases with each upsampling step, corresponding to the encoder features in reverse order (512, 256, 128, 64).\n",
        "*   **Skip Connections:** Skip connections are implemented by concatenating the feature maps from the end of each encoder convolutional block with the output of the corresponding transposed convolutional layer in the decoder. These connections provide the decoder with access to the higher-resolution features from the encoder, which is crucial for reconstructing fine details and sharp edges in the generated image. The concatenation happens along the channel dimension. A cropping mechanism was included to handle potential minor discrepancies in spatial dimensions between the transposed convolution output and the encoder skip connection due to padding or stride effects, although with the chosen kernel sizes and strides, this was primarily a safeguard.\n",
        "*   **Output Layer:** The final layer is a 1x1 convolutional layer that maps the 64 feature maps from the last decoder block to 3 output channels, representing the RGB color channels of the generated image. A Tanh activation function is implicitly applied by the denormalization step in the inference, as the model output is in the range [-1, 1] due to the normalization applied to the input and ground truth images.\n",
        "\n",
        "## Training Dynamics\n",
        "\n",
        "The training process involved iterating over the training dataset for 250 epochs, minimizing the L1Loss between the model's output and the ground truth images. The model's performance was monitored using the validation dataset and tracked using Weights & Biases (wandb).\n",
        "\n",
        "*   **Loss/Metric Curves:** The training loss showed a rapid decrease in the initial epochs and continued to decrease steadily throughout the 250 epochs, indicating that the model was consistently learning. The validation loss followed a similar trend, decreasing alongside the training loss and remaining close to it, which suggests that the model was generalizing well to unseen validation data and was not significantly overfitting. The continuous decrease in validation loss even in later epochs supported the decision to extend training beyond the initial 75 epochs.\n",
        "*   **Qualitative Output Trends:** Visual inspection of the generated images logged to wandb each epoch provided crucial insights into the training progress:\n",
        "    *   **Epochs 1-50:** Generated images were very noisy and did not resemble the target colored polygons. Colors were random and inconsistent.\n",
        "    *   **Epochs 50-150:** The model started to grasp the task. The general shape of the polygon appeared, and the generated color was closer to the target color, but often with significant variations and inaccuracies (e.g., greenish output for a blue target). Edges were blurry and had noticeable artifacts, particularly reddish or orange halos.\n",
        "    *   **Epochs 150-250:** A significant improvement was observed. Color accuracy became much higher, with generated colors closely matching the ground truth. Edge sharpness improved dramatically, and the artifacts around the polygons were substantially reduced, resulting in cleaner and more visually appealing outputs.\n",
        "*   **Typical Failure Modes and Fixes Attempted:**\n",
        "    *   **Shape Mismatch Error (`RuntimeError: mat1 and mat2 shapes cannot be multiplied`):** This was the most significant training failure mode. The traceback pointed to the linear layer for color conditioning. Debugging with print statements revealed that the color vector input to this layer had an incorrect shape (`[batch_size, 4]` instead of `[batch_size, 8]`) specifically for the last batch in the validation loop. This was traced back to the `PolygonDataset`'s `_create_onehot_encoding` method, which was generating color mappings based only on the colors present in the individual dataset splits. The fix involved loading all unique colors from both training and validation data *before* creating the dataset instances and passing this complete list to the `PolygonDataset` constructor. This ensured a consistent 8-dimensional one-hot encoding for all samples, resolving the error.\n",
        "    *   **Poor Output Quality (Initial Epochs):** The blurry edges and inaccurate colors after 75 epochs were considered a failure mode in terms of achieving high-quality results. The fix attempted and successfully implemented was to simply train the model for a significantly longer duration (250 epochs). This allowed the model more time to optimize the weights and learn the intricate details required for accurate color filling and sharp edges.\n",
        "\n",
        "## Key Learnings\n",
        "\n",
        "*   **Data Consistency is Non-Negotiable:** The debugging process for the shape mismatch error underscored the absolute necessity of ensuring consistent data preprocessing and representation across all dataset splits. Even subtle inconsistencies can lead to fundamental errors during training. Thorough data analysis and validation before model training are crucial.\n",
        "*   **Conditional UNet's Adaptability:** The project reaffirmed the power and adaptability of the Conditional UNet for tasks requiring conditioned image generation. The ability to inject external information (color) into the network effectively guided the generation process.\n",
        "*   **Training Duration Matters for Refinement:** Achieving high-quality generative results often requires substantial training. While a model might learn the basic task relatively quickly, refining the output to achieve accuracy in details like color fidelity and edge sharpness can necessitate training for many more epochs. Monitoring validation metrics and qualitative outputs is key to determining sufficient training duration.\n",
        "*   **Debugging with Intermediate Outputs:** Using print statements or debugger tools to inspect the shapes and values of tensors at different stages of the data loading, batching, and model forward pass was essential for pinpointing the source of the shape mismatch error. This iterative debugging process is a critical skill in deep learning development.\n",
        "*   **Wandb for Experiment Tracking and Visualization:** Weights & Biases proved to be an invaluable tool for this project. Tracking loss curves provided quantitative evidence of learning, while logging sample images offered critical qualitative feedback, allowing for visual assessment of the model's progress and the impact of changes like extended training.\n",
        "\n",
        "This project provided hands-on experience with implementing and training a Conditional UNet, highlighting common challenges like data consistency and the importance of sufficient training for achieving high-quality generative outputs in image synthesis tasks. The iterative process of identifying failure modes, debugging, and refining the training strategy was a key learning experience.\n",
        "\"\"\"\n",
        "\n",
        "print(readme_content)"
      ],
      "execution_count": 33,
      "outputs": [
        {
          "output_type": "stream",
          "name": "stdout",
          "text": [
            "# Ayna-ML-Polygon-Coloring\n",
            "\n",
            "## Project Overview\n",
            "\n",
            "This project implements a Conditional UNet model in PyTorch to color polygons based on an input outline image and a specified color. The model learns to fill the polygon shape with the target color while preserving the shape's structure. This task is a form of image-to-image translation where the output is conditioned on an additional input (the desired color), making the Conditional UNet a suitable architecture.\n",
            "\n",
            "## Hyperparameters\n",
            "\n",
            "The following key hyperparameters were used during the final training phase:\n",
            "\n",
            "*   **Number of Epochs:** 250. Initially, the model was trained for 75 epochs as per the task requirements. However, preliminary results showed limitations in color accuracy and edge sharpness. Based on these observations, the training was extended to 150 epochs, and then further to 250 epochs to allow for better convergence and refinement of the generated images.\n",
            "*   **Batch Size:** 16. A batch size of 16 was used for both the training and validation DataLoaders. This size was chosen as a balance between utilizing GPU memory effectively and providing a reasonable number of samples for gradient updates during training.\n",
            "*   **Learning Rate:** 0.0002. This learning rate was used with the Adam optimizer. It was selected as a common starting point for training deep learning models and proved effective in allowing the loss to decrease steadily without significant oscillations. No learning rate scheduling was implemented in this project.\n",
            "*   **Optimizer:** Adam. The Adam optimizer was chosen for its adaptive learning rate properties, which generally lead to faster convergence compared to standard SGD. It is a widely used and robust optimizer for various deep learning tasks.\n",
            "*   **Loss Function:** L1Loss (Mean Absolute Error). L1Loss was used as the objective function to minimize the absolute difference between the pixel values of the generated output images and the ground truth images. This loss function is known to be less sensitive to outliers compared to L2 (Mean Squared Error) and often encourages sharper results in image generation tasks.\n",
            "*   **Color Vector Dimension:** 8. This dimension is determined by the total number of unique colors present across the entire dataset (training and validation combined). The dataset contained 8 distinct colors, leading to an 8-dimensional one-hot encoding for each color.\n",
            "\n",
            "*Rationale for Hyperparameter Choices and Evolution:*\n",
            "The initial hyperparameters (75 epochs, batch size 16, learning rate 0.0002, Adam, L1Loss) served as a foundational setup. The primary modification was the significant increase in the number of epochs. This decision was directly driven by the qualitative assessment of the generated images after initial training, which indicated that the model had learned the basic task but needed more iterations to refine the details and achieve better fidelity in color and edges. The chosen batch size and learning rate appeared to facilitate stable training, so they were not modified.\n",
            "\n",
            "## Architecture\n",
            "\n",
            "The model implemented for this task is a **Conditional UNet** architecture, built from scratch using PyTorch. The UNet architecture is particularly well-suited for image-to-image translation tasks due to its symmetric encoder-decoder structure and the incorporation of skip connections. The conditional aspect is introduced to guide the image generation based on the desired color.\n",
            "\n",
            "*   **Encoder:** The encoder pathway consists of a series of convolutional blocks and max-pooling layers. Each convolutional block comprises two sequential layers, each with a 3x3 convolutional layer, Batch Normalization, and a ReLU activation function. The number of feature maps progressively increases with each downsampling step: starting with 3 input channels, the encoder features are 64, 128, 256, and 512. Max pooling with a kernel size of 2 and stride of 2 is applied after each convolutional block to reduce the spatial dimensions.\n",
            "*   **Bottleneck:** The bottleneck is the central part of the UNet, connecting the encoder and decoder. It consists of a convolutional block similar to those in the encoder, transforming the 512 feature maps from the last encoder layer into 1024 feature maps. This layer captures the most compressed and abstract representation of the input image.\n",
            "*   **Color Conditioning:** The color conditioning is a key element of this Conditional UNet. A linear layer `self.color_linear` is used to project the 8-dimensional one-hot color vector into a higher-dimensional embedding that matches the number of feature maps in the bottleneck (1024). This color embedding is then reshaped to have spatial dimensions of 1x1 and added element-wise to the bottleneck feature map. This injection of color information at the bottleneck allows the model to modulate the global features based on the target color before upsampling begins in the decoder. This is a simple yet effective method for conditioning in image generation. No other methods like concatenating the color vector spatially or using Conditional Batch Normalization were explored.\n",
            "*   **Decoder:** The decoder pathway mirrors the encoder, using transposed convolutional layers (`ConvTranspose2d`) to upsample the feature maps and recover the spatial resolution. Each transposed convolutional layer is followed by a convolutional block. The number of feature maps decreases with each upsampling step, corresponding to the encoder features in reverse order (512, 256, 128, 64).\n",
            "*   **Skip Connections:** Skip connections are implemented by concatenating the feature maps from the end of each encoder convolutional block with the output of the corresponding transposed convolutional layer in the decoder. These connections provide the decoder with access to the higher-resolution features from the encoder, which is crucial for reconstructing fine details and sharp edges in the generated image. The concatenation happens along the channel dimension. A cropping mechanism was included to handle potential minor discrepancies in spatial dimensions between the transposed convolution output and the encoder skip connection due to padding or stride effects, although with the chosen kernel sizes and strides, this was primarily a safeguard.\n",
            "*   **Output Layer:** The final layer is a 1x1 convolutional layer that maps the 64 feature maps from the last decoder block to 3 output channels, representing the RGB color channels of the generated image. A Tanh activation function is implicitly applied by the denormalization step in the inference, as the model output is in the range [-1, 1] due to the normalization applied to the input and ground truth images.\n",
            "\n",
            "## Training Dynamics\n",
            "\n",
            "The training process involved iterating over the training dataset for 250 epochs, minimizing the L1Loss between the model's output and the ground truth images. The model's performance was monitored using the validation dataset and tracked using Weights & Biases (wandb).\n",
            "\n",
            "*   **Loss/Metric Curves:** The training loss showed a rapid decrease in the initial epochs and continued to decrease steadily throughout the 250 epochs, indicating that the model was consistently learning. The validation loss followed a similar trend, decreasing alongside the training loss and remaining close to it, which suggests that the model was generalizing well to unseen validation data and was not significantly overfitting. The continuous decrease in validation loss even in later epochs supported the decision to extend training beyond the initial 75 epochs.\n",
            "*   **Qualitative Output Trends:** Visual inspection of the generated images logged to wandb each epoch provided crucial insights into the training progress:\n",
            "    *   **Epochs 1-50:** Generated images were very noisy and did not resemble the target colored polygons. Colors were random and inconsistent.\n",
            "    *   **Epochs 50-150:** The model started to grasp the task. The general shape of the polygon appeared, and the generated color was closer to the target color, but often with significant variations and inaccuracies (e.g., greenish output for a blue target). Edges were blurry and had noticeable artifacts, particularly reddish or orange halos.\n",
            "    *   **Epochs 150-250:** A significant improvement was observed. Color accuracy became much higher, with generated colors closely matching the ground truth. Edge sharpness improved dramatically, and the artifacts around the polygons were substantially reduced, resulting in cleaner and more visually appealing outputs.\n",
            "*   **Typical Failure Modes and Fixes Attempted:**\n",
            "    *   **Shape Mismatch Error (`RuntimeError: mat1 and mat2 shapes cannot be multiplied`):** This was the most significant training failure mode. The traceback pointed to the linear layer for color conditioning. Debugging with print statements revealed that the color vector input to this layer had an incorrect shape (`[batch_size, 4]` instead of `[batch_size, 8]`) specifically for the last batch in the validation loop. This was traced back to the `PolygonDataset`'s `_create_onehot_encoding` method, which was generating color mappings based only on the colors present in the individual dataset splits. The fix involved loading all unique colors from both training and validation data *before* creating the dataset instances and passing this complete list to the `PolygonDataset` constructor. This ensured a consistent 8-dimensional one-hot encoding for all samples, resolving the error.\n",
            "    *   **Poor Output Quality (Initial Epochs):** The blurry edges and inaccurate colors after 75 epochs were considered a failure mode in terms of achieving high-quality results. The fix attempted and successfully implemented was to simply train the model for a significantly longer duration (250 epochs). This allowed the model more time to optimize the weights and learn the intricate details required for accurate color filling and sharp edges.\n",
            "\n",
            "## Key Learnings\n",
            "\n",
            "*   **Data Consistency is Non-Negotiable:** The debugging process for the shape mismatch error underscored the absolute necessity of ensuring consistent data preprocessing and representation across all dataset splits. Even subtle inconsistencies can lead to fundamental errors during training. Thorough data analysis and validation before model training are crucial.\n",
            "*   **Conditional UNet's Adaptability:** The project reaffirmed the power and adaptability of the Conditional UNet for tasks requiring conditioned image generation. The ability to inject external information (color) into the network effectively guided the generation process.\n",
            "*   **Training Duration Matters for Refinement:** Achieving high-quality generative results often requires substantial training. While a model might learn the basic task relatively quickly, refining the output to achieve accuracy in details like color fidelity and edge sharpness can necessitate training for many more epochs. Monitoring validation metrics and qualitative outputs is key to determining sufficient training duration.\n",
            "*   **Debugging with Intermediate Outputs:** Using print statements or debugger tools to inspect the shapes and values of tensors at different stages of the data loading, batching, and model forward pass was essential for pinpointing the source of the shape mismatch error. This iterative debugging process is a critical skill in deep learning development.\n",
            "*   **Wandb for Experiment Tracking and Visualization:** Weights & Biases proved to be an invaluable tool for this project. Tracking loss curves provided quantitative evidence of learning, while logging sample images offered critical qualitative feedback, allowing for visual assessment of the model's progress and the impact of changes like extended training.\n",
            "\n",
            "This project provided hands-on experience with implementing and training a Conditional UNet, highlighting common challenges like data consistency and the importance of sufficient training for achieving high-quality generative outputs in image synthesis tasks. The iterative process of identifying failure modes, debugging, and refining the training strategy was a key learning experience.\n",
            "\n"
          ]
        }
      ]
    },
    {
      "cell_type": "markdown",
      "metadata": {
        "id": "d94d25e8"
      },
      "source": [
        "## Summary:\n",
        "\n",
        "### Data Analysis Key Findings\n",
        "\n",
        "*   The dataset structure required accessing color information using the key 'colour' and image paths using 'input\\_polygon' and 'output\\_image' instead of the initially assumed keys.\n",
        "*   The dataset contained 8 unique colors across both training and validation splits.\n",
        "*   A critical issue was identified in the initial `PolygonDataset` implementation where one-hot encodings were generated based only on the colors present in the individual training or validation subsets, leading to a shape mismatch (4 dimensions for validation vs. 8 for training) when batches were processed by the model.\n",
        "*   The Conditional UNet model was implemented with an encoder, decoder, skip connections, and a linear layer to condition the bottleneck features with the color one-hot vector.\n",
        "*   The model training using the Adam optimizer and L1Loss was successfully executed for 75 epochs after fixing the data loading and color encoding inconsistency issue.\n",
        "*   Training and validation loss decreased over epochs, indicating learning.\n",
        "*   Visual tracking via wandb showed the generated images progressively improving, with polygon shapes becoming clearer and colors aligning better with the ground truth over training epochs.\n",
        "*   The final model weights were successfully saved.\n",
        "*   Inference demonstrated the model's ability to generate colored polygons based on input outlines and specified colors for validation examples.\n",
        "\n",
        "### Insights or Next Steps\n",
        "\n",
        "*   Ensure consistent data representation and preprocessing across all dataset splits (training, validation, testing) is crucial for avoiding shape mismatches and training errors.\n",
        "*   Further hyperparameter tuning (e.g., learning rate schedule, different optimizers) or exploring alternative loss functions (e.g., perceptual loss) could potentially improve the quality and sharpness of the generated images.\n"
      ]
    },
    {
      "cell_type": "markdown",
      "metadata": {
        "id": "b5de1107"
      },
      "source": [
        "## README.md Report"
      ]
    },
    {
      "cell_type": "code",
      "metadata": {
        "colab": {
          "base_uri": "https://localhost:8080/"
        },
        "id": "bc589f17",
        "outputId": "c7c4bf49-9f81-4d7e-bfde-f663f8ddc1e0"
      },
      "source": [
        "readme_content = \"\"\"# Ayna-ML-Polygon-Coloring\n",
        "\n",
        "## Project Overview\n",
        "\n",
        "This project implements a Conditional UNet model in PyTorch to color polygons based on an input outline image and a specified color. The model learns to fill the polygon shape with the target color while preserving the shape's structure.\n",
        "\n",
        "## Hyperparameters\n",
        "\n",
        "The following key hyperparameters were used during training:\n",
        "\n",
        "*   **Number of Epochs:** 150 (Increased from 75 for improved performance)\n",
        "*   **Batch Size:** 16\n",
        "*   **Learning Rate:** 0.0002\n",
        "*   **Optimizer:** Adam\n",
        "*   **Loss Function:** L1Loss (Mean Absolute Error)\n",
        "*   **Color Vector Dimension:** 8 (Based on the 8 unique colors in the dataset)\n",
        "\n",
        "## Architecture\n",
        "\n",
        "The core of the project is a **Conditional UNet** model built from scratch in PyTorch.\n",
        "\n",
        "*   **Encoder:** A series of convolutional blocks followed by max pooling layers to downsample the input image and extract features.\n",
        "*   **Bottleneck:** The deepest layer of the network, capturing the most abstract features.\n",
        "*   **Color Conditioning:** The color information is provided as a one-hot vector. This vector is passed through a linear layer to create a color embedding. This embedding is then added to the feature map in the bottleneck layer, allowing the model to condition its output on the desired color.\n",
        "*   **Decoder:** A series of transposed convolutional layers and convolutional blocks to upsample the feature map back to the original image resolution.\n",
        "*   **Skip Connections:** Direct connections are included between corresponding layers in the encoder and decoder. These skip connections help the decoder recover spatial information lost during downsampling in the encoder, leading to sharper outputs.\n",
        "*   **Output Layer:** A final 1x1 convolution to produce the final colored image with 3 channels (RGB).\n",
        "\n",
        "## Training Dynamics\n",
        "\n",
        "The model was initially trained for 75 epochs and then for an additional 75 epochs (total 150) to improve performance. Training progress was tracked using Weights & Biases (wandb).\n",
        "\n",
        "*   **Loss Trends:** The training and validation loss curves observed in wandb show a consistent downward trend over the epochs, indicating effective learning. The validation loss tracked the training loss closely, suggesting no significant overfitting.\n",
        "*   **Sample Image Tracking:** Visual tracking with wandb showed significant improvement in generated image quality with extended training. Initially, outputs had incorrect colors and blurry edges. By 75 epochs, colors were better but still not always accurate, and edge artifacts were present. After 150 epochs, the generated colors are more accurate, and the edges are notably sharper with reduced artifacts.\n",
        "*   **Impact of Extended Training:** Training for a longer duration (150 epochs) successfully addressed the initial issues of color inaccuracy and edge artifacts, demonstrating the model's ability to refine its output with more training data exposure.\n",
        "\n",
        "## Key Learnings\n",
        "\n",
        "*   **Importance of Consistent Data Representation:** A crucial learning experience was debugging the `RuntimeError` during initial training attempts. The root cause was an inconsistency in the dimensionality of the one-hot encoded color vectors between the training and validation datasets. Fixing this by generating one-hot encodings based on *all* unique colors across the *entire* dataset was essential for successful training. This highlights the importance of ensuring consistent data preprocessing and representation across all data splits.\n",
        "*   **Effectiveness of Conditional UNet:** The Conditional UNet architecture proved effective for this task, demonstrating its capability in image synthesis guided by external conditions.\n",
        "*   **Visual Tracking with Wandb:** Weights & Biases was invaluable for monitoring training, assessing convergence, and visually evaluating the impact of increased training epochs on output quality.\n",
        "*   **Training Duration Impact:** Extending the training duration significantly improved the model's ability to accurately reproduce colors and generate sharper polygon edges, indicating that 75 epochs were insufficient for optimal performance on this dataset.\n",
        "\n",
        "This project demonstrates the power of conditional generative models like the Conditional UNet for image synthesis tasks and the importance of sufficient training time for fine-tuning model performance.\n",
        "\"\"\"\n",
        "\n",
        "print(readme_content)"
      ],
      "execution_count": 23,
      "outputs": [
        {
          "output_type": "stream",
          "name": "stdout",
          "text": [
            "# Ayna-ML-Polygon-Coloring\n",
            "\n",
            "## Project Overview\n",
            "\n",
            "This project implements a Conditional UNet model in PyTorch to color polygons based on an input outline image and a specified color. The model learns to fill the polygon shape with the target color while preserving the shape's structure.\n",
            "\n",
            "## Hyperparameters\n",
            "\n",
            "The following key hyperparameters were used during training:\n",
            "\n",
            "*   **Number of Epochs:** 150 (Increased from 75 for improved performance)\n",
            "*   **Batch Size:** 16\n",
            "*   **Learning Rate:** 0.0002\n",
            "*   **Optimizer:** Adam\n",
            "*   **Loss Function:** L1Loss (Mean Absolute Error)\n",
            "*   **Color Vector Dimension:** 8 (Based on the 8 unique colors in the dataset)\n",
            "\n",
            "## Architecture\n",
            "\n",
            "The core of the project is a **Conditional UNet** model built from scratch in PyTorch.\n",
            "\n",
            "*   **Encoder:** A series of convolutional blocks followed by max pooling layers to downsample the input image and extract features.\n",
            "*   **Bottleneck:** The deepest layer of the network, capturing the most abstract features.\n",
            "*   **Color Conditioning:** The color information is provided as a one-hot vector. This vector is passed through a linear layer to create a color embedding. This embedding is then added to the feature map in the bottleneck layer, allowing the model to condition its output on the desired color.\n",
            "*   **Decoder:** A series of transposed convolutional layers and convolutional blocks to upsample the feature map back to the original image resolution.\n",
            "*   **Skip Connections:** Direct connections are included between corresponding layers in the encoder and decoder. These skip connections help the decoder recover spatial information lost during downsampling in the encoder, leading to sharper outputs.\n",
            "*   **Output Layer:** A final 1x1 convolution to produce the final colored image with 3 channels (RGB).\n",
            "\n",
            "## Training Dynamics\n",
            "\n",
            "The model was initially trained for 75 epochs and then for an additional 75 epochs (total 150) to improve performance. Training progress was tracked using Weights & Biases (wandb).\n",
            "\n",
            "*   **Loss Trends:** The training and validation loss curves observed in wandb show a consistent downward trend over the epochs, indicating effective learning. The validation loss tracked the training loss closely, suggesting no significant overfitting.\n",
            "*   **Sample Image Tracking:** Visual tracking with wandb showed significant improvement in generated image quality with extended training. Initially, outputs had incorrect colors and blurry edges. By 75 epochs, colors were better but still not always accurate, and edge artifacts were present. After 150 epochs, the generated colors are more accurate, and the edges are notably sharper with reduced artifacts.\n",
            "*   **Impact of Extended Training:** Training for a longer duration (150 epochs) successfully addressed the initial issues of color inaccuracy and edge artifacts, demonstrating the model's ability to refine its output with more training data exposure.\n",
            "\n",
            "## Key Learnings\n",
            "\n",
            "*   **Importance of Consistent Data Representation:** A crucial learning experience was debugging the `RuntimeError` during initial training attempts. The root cause was an inconsistency in the dimensionality of the one-hot encoded color vectors between the training and validation datasets. Fixing this by generating one-hot encodings based on *all* unique colors across the *entire* dataset was essential for successful training. This highlights the importance of ensuring consistent data preprocessing and representation across all data splits.\n",
            "*   **Effectiveness of Conditional UNet:** The Conditional UNet architecture proved effective for this task, demonstrating its capability in image synthesis guided by external conditions.\n",
            "*   **Visual Tracking with Wandb:** Weights & Biases was invaluable for monitoring training, assessing convergence, and visually evaluating the impact of increased training epochs on output quality.\n",
            "*   **Training Duration Impact:** Extending the training duration significantly improved the model's ability to accurately reproduce colors and generate sharper polygon edges, indicating that 75 epochs were insufficient for optimal performance on this dataset.\n",
            "\n",
            "This project demonstrates the power of conditional generative models like the Conditional UNet for image synthesis tasks and the importance of sufficient training time for fine-tuning model performance.\n",
            "\n"
          ]
        }
      ]
    },
    {
      "cell_type": "code",
      "metadata": {
        "colab": {
          "base_uri": "https://localhost:8080/"
        },
        "id": "ca12552f",
        "outputId": "123cde44-4bdb-4277-b684-62225bbd45b1"
      },
      "source": [
        "# Define the path to save the README file\n",
        "readme_save_path = '/content/drive/My Drive/README.md'\n",
        "\n",
        "# Write the readme_content to the file\n",
        "with open(readme_save_path, 'w') as f:\n",
        "    f.write(readme_content)\n",
        "\n",
        "print(f\"README.md saved to {readme_save_path}\")"
      ],
      "execution_count": 32,
      "outputs": [
        {
          "output_type": "stream",
          "name": "stdout",
          "text": [
            "README.md saved to /content/drive/My Drive/README.md\n"
          ]
        }
      ]
    },
    {
      "cell_type": "code",
      "metadata": {
        "colab": {
          "base_uri": "https://localhost:8080/"
        },
        "id": "28a3b9fe",
        "outputId": "c7b65328-f350-4905-afbf-ac0c7d1f5c87"
      },
      "source": [
        "# Define the path to save the README file\n",
        "readme_save_path = '/content/drive/My Drive/README.md'\n",
        "\n",
        "# Write the readme_content to the file\n",
        "with open(readme_save_path, 'w') as f:\n",
        "    f.write(readme_content)\n",
        "\n",
        "print(f\"README.md saved to {readme_save_path}\")"
      ],
      "execution_count": 34,
      "outputs": [
        {
          "output_type": "stream",
          "name": "stdout",
          "text": [
            "README.md saved to /content/drive/My Drive/README.md\n"
          ]
        }
      ]
    }
  ]
}